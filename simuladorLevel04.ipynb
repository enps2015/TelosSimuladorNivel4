{
  "cells": [
    {
      "cell_type": "markdown",
      "metadata": {
        "id": "view-in-github",
        "colab_type": "text"
      },
      "source": [
        "<a href=\"https://colab.research.google.com/github/enps2015/TelosSimuladorNivel4/blob/main/simuladorLevel04.ipynb\" target=\"_parent\"><img src=\"https://colab.research.google.com/assets/colab-badge.svg\" alt=\"Open In Colab\"/></a>"
      ]
    },
    {
      "cell_type": "markdown",
      "metadata": {
        "id": "WkghIpYAovLd"
      },
      "source": [
        "# **Simulator Télos - Nível 4 Trilha de Dados**\n",
        "\n",
        "1. Raspagem de Dados IMDB\n",
        "\n",
        "2. KPIs com Base da NBA\n",
        "\n",
        "**Contextualização**\n",
        "\n",
        "Aprendemos que a análise de dados oferece insights valiosos para a\n",
        "tomada de decisões, e que coletar e tratar os dados corretamente é\n",
        "fundamental para que possamos elaborar os KPIs. Portanto, vamos\n",
        "praticar?\n",
        "\n",
        "__________"
      ]
    },
    {
      "cell_type": "markdown",
      "metadata": {
        "id": "BB6yZBAtovLm"
      },
      "source": [
        "**Projeto Análise dos 25 Melhores Filmes do IMDB**\n",
        "\n",
        "**Objetivos:**\n",
        "\n",
        "O objetivo deste projeto é analisar os 25 melhores filmes do ranking IMDB para entender o que faz um filme ser considerado \"excelente\". Esta análise nos ajudará a responder algumas perguntas importantes para a indústria cinematográfica e para os amantes do cinema.\n",
        "\n",
        "**Perguntas de negócio e KPIs:**\n",
        "\n",
        "**Qual é a relação entre idade do filme e sua nota?**\n",
        "\n",
        "  **KPI:** correlação entre Ano e Nota\n",
        "\n",
        "**Como a classificação indicativa se relaciona com a avaliação do filme?**\n",
        "\n",
        "  **KPI:** Nota Média por faixa etária"
      ]
    },
    {
      "cell_type": "code",
      "execution_count": null,
      "metadata": {
        "id": "r_s4ZvuHovLn"
      },
      "outputs": [],
      "source": [
        "# Importação das bibliotecas necessárias\n",
        "import requests\n",
        "from requests.exceptions import HTTPError\n",
        "import pandas as pd\n",
        "from bs4 import BeautifulSoup\n",
        "import numpy as np\n",
        "import matplotlib.pyplot as plt\n",
        "import seaborn as sns\n",
        "import re"
      ]
    },
    {
      "cell_type": "markdown",
      "metadata": {
        "id": "V3G9LEq3ovLo"
      },
      "source": [
        "**Verificando o robots.txt**\n",
        "\n",
        "É preciso verificar, no robots.txt do site, se é permitida a coleta de Dados usando raspagem de dados"
      ]
    },
    {
      "cell_type": "code",
      "execution_count": null,
      "metadata": {
        "id": "CxTdHr7hovLp",
        "outputId": "66bcad9c-4fe3-4a79-f93b-93ee3305bed4"
      },
      "outputs": [
        {
          "name": "stdout",
          "output_type": "stream",
          "text": [
            "# robots.txt for https://www.imdb.com properties\n",
            "User-agent: *\n",
            "Disallow: /OnThisDay\n",
            "Disallow: /ads/\n",
            "Disallow: /ap/\n",
            "Disallow: /mymovies/\n",
            "Disallow: /r/\n",
            "Disallow: /register\n",
            "Disallow: /registration/\n",
            "Disallow: /search/name-text\n",
            "Disallow: /search/title-text\n",
            "Disallow: /find\n",
            "Disallow: /find$\n",
            "Disallow: /find/\n",
            "Disallow: /tvschedule\n",
            "Disallow: /updates\n",
            "Disallow: /watch/_ajax/option\n",
            "Disallow: /_json/video/mon\n",
            "Disallow: /_json/getAdsForMediaViewer/\n",
            "Disallow: /list/ls*/_ajax\n",
            "Disallow: /list/ls*/export\n",
            "Disallow: /*/*/rg*/mediaviewer/rm*/tr\n",
            "Disallow: /*/rg*/mediaviewer/rm*/tr\n",
            "Disallow: /*/mediaviewer/*/tr\n",
            "Disallow: /title/tt*/mediaviewer/rm*/tr\n",
            "Disallow: /name/nm*/mediaviewer/rm*/tr\n",
            "Disallow: /gallery/rg*/mediaviewer/rm*/tr\n",
            "Disallow: /tr/\n",
            "Disallow: /title/tt*/watchoptions\n",
            "Disallow: /search/title/?title_type=feature,tv_movie,tv_miniseries,documentary,short,video,tv_short&release_date=,2020-12-31&lists=%21ls538187658,%21ls539867036,%21ls538186228&view=simple&sort=num_votes,asc&aft\n",
            "Disallow: /name/nm*/filmotype/*\n",
            "Disallow: /user/ur*/ratings\n",
            "Disallow: /user/ur*/checkins\n",
            "Disallow: /_json/*\n",
            "\n",
            "User-agent: Baiduspider\n",
            "Disallow: /list/*\n",
            "Disallow: /user/*\n",
            "\n",
            "User-agent: bingbot\n",
            "Disallow: /showtimes/location/*\n"
          ]
        }
      ],
      "source": [
        "URL = 'https://www.imdb.com/robots.txt'\n",
        "\n",
        "try:\n",
        "    response = requests.get(URL)\n",
        "    response.raise_for_status()\n",
        "\n",
        "    robots = response.text\n",
        "    print(robots)\n",
        "\n",
        "except requests.exceptions.RequestException as e:\n",
        "    print(f\"Erro ao acessar {URL}: {e}\")"
      ]
    },
    {
      "cell_type": "markdown",
      "metadata": {
        "id": "6d7N4RulovLq"
      },
      "source": [
        "**Iniciando a Raspagem dos Dados**\n",
        "\n",
        "Baixando todo o conteúdo da página para um arquivo HTML, para depois ler com bs4"
      ]
    },
    {
      "cell_type": "code",
      "execution_count": null,
      "metadata": {
        "id": "wOrWZ1n3ovLr",
        "outputId": "5bd4d247-d9b0-41cf-c945-de89213e18e7"
      },
      "outputs": [
        {
          "name": "stdout",
          "output_type": "stream",
          "text": [
            "Conteúdo da página baixado com sucesso!\n"
          ]
        }
      ],
      "source": [
        "conteudo = None\n",
        "\n",
        "URL = 'https://www.imdb.com/chart/top'\n",
        "\n",
        "# Definindo um cabeçalho de usuário para simular um navegador\n",
        "headers = {\n",
        "    'User-Agent': 'Mozilla/5.0 (Windows NT 10.0; Win64; x64) AppleWebKit/537.36 (KHTML, like Gecko) Chrome/58.0.3029.110 Safari/537.3'}\n",
        "\n",
        "try:\n",
        "    # requisição para obter o conteudo da pagina\n",
        "    response = requests.get(URL, headers=headers)\n",
        "\n",
        "    #verificando se houve algum erro durante a requisição\n",
        "    response.raise_for_status()\n",
        "\n",
        "    # Obtendo o conteudo da página\n",
        "    conteudo = response.content\n",
        "\n",
        "except HTTPError as http_err:\n",
        "    print(f'Ocorreu um erro HTTP: {http_err}')\n",
        "except Exception as err:\n",
        "    print(f'Ocorreu um erro: {err}')\n",
        "\n",
        "# validando o resultado\n",
        "if conteudo is not None:\n",
        "    print(\"Conteúdo da página baixado com sucesso!\")\n",
        "else:\n",
        "    print(\"Falha ao baixar o conteúdo da página.\")\n"
      ]
    },
    {
      "cell_type": "code",
      "execution_count": null,
      "metadata": {
        "id": "PKF9VkzyovLr",
        "outputId": "93e2c0cf-df27-43a2-d90d-f39b2cf7c838"
      },
      "outputs": [
        {
          "name": "stdout",
          "output_type": "stream",
          "text": [
            "HTML carregado com sucesso!\n"
          ]
        }
      ],
      "source": [
        "pagina = BeautifulSoup(conteudo, 'html.parser')\n",
        "\n",
        "print(\"HTML carregado com sucesso!\")"
      ]
    },
    {
      "cell_type": "markdown",
      "metadata": {
        "id": "LxjUeYUHovLs"
      },
      "source": [
        "**Criando o DataFrame**\n",
        "\n",
        "utilizando Pandas pra criar um dataframe dos dados em html"
      ]
    },
    {
      "cell_type": "code",
      "execution_count": null,
      "metadata": {
        "id": "8UaX_furovLs"
      },
      "outputs": [],
      "source": [
        "# Criando uma lista para armazenar os detalhes de cada filme\n",
        "lista_filmes = []\n",
        "\n",
        "# Encontrando todos os elementos que contêm os títulos dos filmes\n",
        "titulos = pagina.find_all('a', class_='ipc-title-link-wrapper')\n",
        "\n",
        "# Extraindo o conteúdo dos filmes\n",
        "for titulo in titulos:\n",
        "    # Extraindo o título do filme (usando o <h3>)\n",
        "    nome_filme = titulo.find('h3', class_='ipc-title__text').get_text(strip=True)\n",
        "\n",
        "    # Extraindo o ano, a duração e a classificação indicativa\n",
        "    pai = titulo.find_parent('li', class_='ipc-metadata-list-summary-item')\n",
        "\n",
        "    metadata_elemento = pai.find('div', class_='sc-b189961a-7 btCcOY cli-title-metadata')\n",
        "\n",
        "    ano = metadata_elemento.find_all('span', class_='sc-b189961a-8')[0].get_text(strip=True)\n",
        "    duracao = metadata_elemento.find_all('span', class_='sc-b189961a-8')[1].get_text(strip=True)\n",
        "    classificacao = metadata_elemento.find_all('span', class_='sc-b189961a-8')[2].get_text(strip=True)\n",
        "\n",
        "    nota = pai.find('span', class_='ipc-rating-star--rating').get_text(strip=True)\n",
        "\n",
        "    # Criando um dicionário com as informações do filme\n",
        "    filmes_info = {\n",
        "        'Título': nome_filme,\n",
        "        'Ano': ano,\n",
        "        'Duração': duracao,\n",
        "        'Classificação Indicativa': classificacao,\n",
        "        'Nota': nota\n",
        "    }\n",
        "\n",
        "    # Adicionando o dicionário à lista de filmes\n",
        "    lista_filmes.append(filmes_info)\n",
        "\n",
        "# Criando um DataFrame (Pandas) para melhor exibição\n",
        "df_filmes = pd.DataFrame(lista_filmes)\n"
      ]
    },
    {
      "cell_type": "code",
      "execution_count": null,
      "metadata": {
        "id": "XlTNPc4QovLs"
      },
      "outputs": [],
      "source": [
        "# Transformando o dataframe para CSV\n",
        "df_filmes.to_csv('filmes_imdb.csv', index=False)"
      ]
    },
    {
      "cell_type": "code",
      "execution_count": null,
      "metadata": {
        "id": "ba7H4y-eovLs",
        "outputId": "ed21e876-36eb-4f05-8c2b-a93642e63ec8"
      },
      "outputs": [
        {
          "data": {
            "text/html": [
              "<div>\n",
              "<style scoped>\n",
              "    .dataframe tbody tr th:only-of-type {\n",
              "        vertical-align: middle;\n",
              "    }\n",
              "\n",
              "    .dataframe tbody tr th {\n",
              "        vertical-align: top;\n",
              "    }\n",
              "\n",
              "    .dataframe thead th {\n",
              "        text-align: right;\n",
              "    }\n",
              "</style>\n",
              "<table border=\"1\" class=\"dataframe\">\n",
              "  <thead>\n",
              "    <tr style=\"text-align: right;\">\n",
              "      <th></th>\n",
              "      <th>Título</th>\n",
              "      <th>Ano</th>\n",
              "      <th>Duração</th>\n",
              "      <th>Classificação Indicativa</th>\n",
              "      <th>Nota</th>\n",
              "    </tr>\n",
              "  </thead>\n",
              "  <tbody>\n",
              "    <tr>\n",
              "      <th>0</th>\n",
              "      <td>1. Um Sonho de Liberdade</td>\n",
              "      <td>1994</td>\n",
              "      <td>2h 22m</td>\n",
              "      <td>16</td>\n",
              "      <td>9.3</td>\n",
              "    </tr>\n",
              "    <tr>\n",
              "      <th>1</th>\n",
              "      <td>2. O Poderoso Chefão</td>\n",
              "      <td>1972</td>\n",
              "      <td>2h 55m</td>\n",
              "      <td>14</td>\n",
              "      <td>9.2</td>\n",
              "    </tr>\n",
              "    <tr>\n",
              "      <th>2</th>\n",
              "      <td>3. Batman: O Cavaleiro das Trevas</td>\n",
              "      <td>2008</td>\n",
              "      <td>2h 32m</td>\n",
              "      <td>12</td>\n",
              "      <td>9.0</td>\n",
              "    </tr>\n",
              "    <tr>\n",
              "      <th>3</th>\n",
              "      <td>4. O Poderoso Chefão II</td>\n",
              "      <td>1974</td>\n",
              "      <td>3h 22m</td>\n",
              "      <td>14</td>\n",
              "      <td>9.0</td>\n",
              "    </tr>\n",
              "    <tr>\n",
              "      <th>4</th>\n",
              "      <td>5. 12 Homens e uma Sentença</td>\n",
              "      <td>1957</td>\n",
              "      <td>1h 36m</td>\n",
              "      <td>Livre</td>\n",
              "      <td>9.0</td>\n",
              "    </tr>\n",
              "    <tr>\n",
              "      <th>5</th>\n",
              "      <td>6. O Senhor dos Anéis: O Retorno do Rei</td>\n",
              "      <td>2003</td>\n",
              "      <td>3h 21m</td>\n",
              "      <td>14</td>\n",
              "      <td>9.0</td>\n",
              "    </tr>\n",
              "    <tr>\n",
              "      <th>6</th>\n",
              "      <td>7. A Lista de Schindler</td>\n",
              "      <td>1993</td>\n",
              "      <td>3h 15m</td>\n",
              "      <td>14</td>\n",
              "      <td>9.0</td>\n",
              "    </tr>\n",
              "    <tr>\n",
              "      <th>7</th>\n",
              "      <td>8. Pulp Fiction: Tempo de Violência</td>\n",
              "      <td>1994</td>\n",
              "      <td>2h 34m</td>\n",
              "      <td>18</td>\n",
              "      <td>8.9</td>\n",
              "    </tr>\n",
              "    <tr>\n",
              "      <th>8</th>\n",
              "      <td>9. O Senhor dos Anéis: A Sociedade do Anel</td>\n",
              "      <td>2001</td>\n",
              "      <td>2h 58m</td>\n",
              "      <td>12</td>\n",
              "      <td>8.9</td>\n",
              "    </tr>\n",
              "    <tr>\n",
              "      <th>9</th>\n",
              "      <td>10. Três Homens em Conflito</td>\n",
              "      <td>1966</td>\n",
              "      <td>2h 41m</td>\n",
              "      <td>14</td>\n",
              "      <td>8.8</td>\n",
              "    </tr>\n",
              "    <tr>\n",
              "      <th>10</th>\n",
              "      <td>11. Forrest Gump: O Contador de Histórias</td>\n",
              "      <td>1994</td>\n",
              "      <td>2h 22m</td>\n",
              "      <td>14</td>\n",
              "      <td>8.8</td>\n",
              "    </tr>\n",
              "    <tr>\n",
              "      <th>11</th>\n",
              "      <td>12. O Senhor dos Anéis: As Duas Torres</td>\n",
              "      <td>2002</td>\n",
              "      <td>2h 59m</td>\n",
              "      <td>12</td>\n",
              "      <td>8.8</td>\n",
              "    </tr>\n",
              "    <tr>\n",
              "      <th>12</th>\n",
              "      <td>13. Clube da Luta</td>\n",
              "      <td>1999</td>\n",
              "      <td>2h 19m</td>\n",
              "      <td>18</td>\n",
              "      <td>8.8</td>\n",
              "    </tr>\n",
              "    <tr>\n",
              "      <th>13</th>\n",
              "      <td>14. A Origem</td>\n",
              "      <td>2010</td>\n",
              "      <td>2h 28m</td>\n",
              "      <td>14</td>\n",
              "      <td>8.8</td>\n",
              "    </tr>\n",
              "    <tr>\n",
              "      <th>14</th>\n",
              "      <td>15. Star Wars: Episódio V - O Império Contra-A...</td>\n",
              "      <td>1980</td>\n",
              "      <td>2h 4m</td>\n",
              "      <td>Livre</td>\n",
              "      <td>8.7</td>\n",
              "    </tr>\n",
              "    <tr>\n",
              "      <th>15</th>\n",
              "      <td>16. Matrix</td>\n",
              "      <td>1999</td>\n",
              "      <td>2h 16m</td>\n",
              "      <td>14</td>\n",
              "      <td>8.7</td>\n",
              "    </tr>\n",
              "    <tr>\n",
              "      <th>16</th>\n",
              "      <td>17. Os Bons Companheiros</td>\n",
              "      <td>1990</td>\n",
              "      <td>2h 25m</td>\n",
              "      <td>14</td>\n",
              "      <td>8.7</td>\n",
              "    </tr>\n",
              "    <tr>\n",
              "      <th>17</th>\n",
              "      <td>18. Um Estranho no Ninho</td>\n",
              "      <td>1975</td>\n",
              "      <td>2h 13m</td>\n",
              "      <td>16</td>\n",
              "      <td>8.7</td>\n",
              "    </tr>\n",
              "    <tr>\n",
              "      <th>18</th>\n",
              "      <td>19. Interestelar</td>\n",
              "      <td>2014</td>\n",
              "      <td>2h 49m</td>\n",
              "      <td>10</td>\n",
              "      <td>8.7</td>\n",
              "    </tr>\n",
              "    <tr>\n",
              "      <th>19</th>\n",
              "      <td>20. Seven: Os Sete Crimes Capitais</td>\n",
              "      <td>1995</td>\n",
              "      <td>2h 7m</td>\n",
              "      <td>14</td>\n",
              "      <td>8.6</td>\n",
              "    </tr>\n",
              "    <tr>\n",
              "      <th>20</th>\n",
              "      <td>21. A Felicidade Não se Compra</td>\n",
              "      <td>1946</td>\n",
              "      <td>2h 10m</td>\n",
              "      <td>Livre</td>\n",
              "      <td>8.6</td>\n",
              "    </tr>\n",
              "    <tr>\n",
              "      <th>21</th>\n",
              "      <td>22. Os Sete Samurais</td>\n",
              "      <td>1954</td>\n",
              "      <td>3h 27m</td>\n",
              "      <td>10</td>\n",
              "      <td>8.6</td>\n",
              "    </tr>\n",
              "    <tr>\n",
              "      <th>22</th>\n",
              "      <td>23. O Silêncio dos Inocentes</td>\n",
              "      <td>1991</td>\n",
              "      <td>1h 58m</td>\n",
              "      <td>14</td>\n",
              "      <td>8.6</td>\n",
              "    </tr>\n",
              "    <tr>\n",
              "      <th>23</th>\n",
              "      <td>24. O Resgate do Soldado Ryan</td>\n",
              "      <td>1998</td>\n",
              "      <td>2h 49m</td>\n",
              "      <td>14</td>\n",
              "      <td>8.6</td>\n",
              "    </tr>\n",
              "    <tr>\n",
              "      <th>24</th>\n",
              "      <td>25. Cidade de Deus</td>\n",
              "      <td>2002</td>\n",
              "      <td>2h 10m</td>\n",
              "      <td>18</td>\n",
              "      <td>8.6</td>\n",
              "    </tr>\n",
              "  </tbody>\n",
              "</table>\n",
              "</div>"
            ],
            "text/plain": [
              "                                               Título   Ano Duração  \\\n",
              "0                            1. Um Sonho de Liberdade  1994  2h 22m   \n",
              "1                                2. O Poderoso Chefão  1972  2h 55m   \n",
              "2                   3. Batman: O Cavaleiro das Trevas  2008  2h 32m   \n",
              "3                             4. O Poderoso Chefão II  1974  3h 22m   \n",
              "4                         5. 12 Homens e uma Sentença  1957  1h 36m   \n",
              "5             6. O Senhor dos Anéis: O Retorno do Rei  2003  3h 21m   \n",
              "6                             7. A Lista de Schindler  1993  3h 15m   \n",
              "7                 8. Pulp Fiction: Tempo de Violência  1994  2h 34m   \n",
              "8          9. O Senhor dos Anéis: A Sociedade do Anel  2001  2h 58m   \n",
              "9                         10. Três Homens em Conflito  1966  2h 41m   \n",
              "10          11. Forrest Gump: O Contador de Histórias  1994  2h 22m   \n",
              "11             12. O Senhor dos Anéis: As Duas Torres  2002  2h 59m   \n",
              "12                                  13. Clube da Luta  1999  2h 19m   \n",
              "13                                       14. A Origem  2010  2h 28m   \n",
              "14  15. Star Wars: Episódio V - O Império Contra-A...  1980   2h 4m   \n",
              "15                                         16. Matrix  1999  2h 16m   \n",
              "16                           17. Os Bons Companheiros  1990  2h 25m   \n",
              "17                           18. Um Estranho no Ninho  1975  2h 13m   \n",
              "18                                   19. Interestelar  2014  2h 49m   \n",
              "19                 20. Seven: Os Sete Crimes Capitais  1995   2h 7m   \n",
              "20                     21. A Felicidade Não se Compra  1946  2h 10m   \n",
              "21                               22. Os Sete Samurais  1954  3h 27m   \n",
              "22                       23. O Silêncio dos Inocentes  1991  1h 58m   \n",
              "23                      24. O Resgate do Soldado Ryan  1998  2h 49m   \n",
              "24                                 25. Cidade de Deus  2002  2h 10m   \n",
              "\n",
              "   Classificação Indicativa Nota  \n",
              "0                        16  9.3  \n",
              "1                        14  9.2  \n",
              "2                        12  9.0  \n",
              "3                        14  9.0  \n",
              "4                     Livre  9.0  \n",
              "5                        14  9.0  \n",
              "6                        14  9.0  \n",
              "7                        18  8.9  \n",
              "8                        12  8.9  \n",
              "9                        14  8.8  \n",
              "10                       14  8.8  \n",
              "11                       12  8.8  \n",
              "12                       18  8.8  \n",
              "13                       14  8.8  \n",
              "14                    Livre  8.7  \n",
              "15                       14  8.7  \n",
              "16                       14  8.7  \n",
              "17                       16  8.7  \n",
              "18                       10  8.7  \n",
              "19                       14  8.6  \n",
              "20                    Livre  8.6  \n",
              "21                       10  8.6  \n",
              "22                       14  8.6  \n",
              "23                       14  8.6  \n",
              "24                       18  8.6  "
            ]
          },
          "execution_count": 23,
          "metadata": {},
          "output_type": "execute_result"
        }
      ],
      "source": [
        "# Exibindo o DataFrame\n",
        "df_filmes\n"
      ]
    },
    {
      "cell_type": "code",
      "execution_count": null,
      "metadata": {
        "id": "OoNKVnDpovLt",
        "outputId": "9c1bc5e8-4a87-4213-ddef-9549c9d6e08b"
      },
      "outputs": [
        {
          "name": "stdout",
          "output_type": "stream",
          "text": [
            "<class 'pandas.core.frame.DataFrame'>\n",
            "RangeIndex: 25 entries, 0 to 24\n",
            "Data columns (total 5 columns):\n",
            " #   Column                    Non-Null Count  Dtype \n",
            "---  ------                    --------------  ----- \n",
            " 0   Título                    25 non-null     object\n",
            " 1   Ano                       25 non-null     object\n",
            " 2   Duração                   25 non-null     object\n",
            " 3   Classificação Indicativa  25 non-null     object\n",
            " 4   Nota                      25 non-null     object\n",
            "dtypes: object(5)\n",
            "memory usage: 1.1+ KB\n"
          ]
        }
      ],
      "source": [
        "df_filmes.info()"
      ]
    },
    {
      "cell_type": "markdown",
      "metadata": {
        "id": "jdDbaGLXovLt"
      },
      "source": [
        "**Preparação dos Dados**"
      ]
    },
    {
      "cell_type": "code",
      "execution_count": null,
      "metadata": {
        "id": "qN1jIC9covLt",
        "outputId": "3b230f9f-c9fe-4146-bc6e-e1235fff8e02"
      },
      "outputs": [
        {
          "data": {
            "text/html": [
              "<div>\n",
              "<style scoped>\n",
              "    .dataframe tbody tr th:only-of-type {\n",
              "        vertical-align: middle;\n",
              "    }\n",
              "\n",
              "    .dataframe tbody tr th {\n",
              "        vertical-align: top;\n",
              "    }\n",
              "\n",
              "    .dataframe thead th {\n",
              "        text-align: right;\n",
              "    }\n",
              "</style>\n",
              "<table border=\"1\" class=\"dataframe\">\n",
              "  <thead>\n",
              "    <tr style=\"text-align: right;\">\n",
              "      <th></th>\n",
              "      <th>Título</th>\n",
              "      <th>Ano</th>\n",
              "      <th>Duração</th>\n",
              "      <th>Classificação Indicativa</th>\n",
              "      <th>Nota</th>\n",
              "    </tr>\n",
              "  </thead>\n",
              "  <tbody>\n",
              "    <tr>\n",
              "      <th>0</th>\n",
              "      <td>1. Um Sonho de Liberdade</td>\n",
              "      <td>1994</td>\n",
              "      <td>142</td>\n",
              "      <td>16</td>\n",
              "      <td>9.3</td>\n",
              "    </tr>\n",
              "    <tr>\n",
              "      <th>1</th>\n",
              "      <td>2. O Poderoso Chefão</td>\n",
              "      <td>1972</td>\n",
              "      <td>175</td>\n",
              "      <td>14</td>\n",
              "      <td>9.2</td>\n",
              "    </tr>\n",
              "    <tr>\n",
              "      <th>2</th>\n",
              "      <td>3. Batman: O Cavaleiro das Trevas</td>\n",
              "      <td>2008</td>\n",
              "      <td>152</td>\n",
              "      <td>12</td>\n",
              "      <td>9.0</td>\n",
              "    </tr>\n",
              "    <tr>\n",
              "      <th>3</th>\n",
              "      <td>4. O Poderoso Chefão II</td>\n",
              "      <td>1974</td>\n",
              "      <td>202</td>\n",
              "      <td>14</td>\n",
              "      <td>9.0</td>\n",
              "    </tr>\n",
              "    <tr>\n",
              "      <th>4</th>\n",
              "      <td>5. 12 Homens e uma Sentença</td>\n",
              "      <td>1957</td>\n",
              "      <td>96</td>\n",
              "      <td>0</td>\n",
              "      <td>9.0</td>\n",
              "    </tr>\n",
              "    <tr>\n",
              "      <th>5</th>\n",
              "      <td>6. O Senhor dos Anéis: O Retorno do Rei</td>\n",
              "      <td>2003</td>\n",
              "      <td>201</td>\n",
              "      <td>14</td>\n",
              "      <td>9.0</td>\n",
              "    </tr>\n",
              "    <tr>\n",
              "      <th>6</th>\n",
              "      <td>7. A Lista de Schindler</td>\n",
              "      <td>1993</td>\n",
              "      <td>195</td>\n",
              "      <td>14</td>\n",
              "      <td>9.0</td>\n",
              "    </tr>\n",
              "    <tr>\n",
              "      <th>7</th>\n",
              "      <td>8. Pulp Fiction: Tempo de Violência</td>\n",
              "      <td>1994</td>\n",
              "      <td>154</td>\n",
              "      <td>18</td>\n",
              "      <td>8.9</td>\n",
              "    </tr>\n",
              "    <tr>\n",
              "      <th>8</th>\n",
              "      <td>9. O Senhor dos Anéis: A Sociedade do Anel</td>\n",
              "      <td>2001</td>\n",
              "      <td>178</td>\n",
              "      <td>12</td>\n",
              "      <td>8.9</td>\n",
              "    </tr>\n",
              "    <tr>\n",
              "      <th>9</th>\n",
              "      <td>10. Três Homens em Conflito</td>\n",
              "      <td>1966</td>\n",
              "      <td>161</td>\n",
              "      <td>14</td>\n",
              "      <td>8.8</td>\n",
              "    </tr>\n",
              "    <tr>\n",
              "      <th>10</th>\n",
              "      <td>11. Forrest Gump: O Contador de Histórias</td>\n",
              "      <td>1994</td>\n",
              "      <td>142</td>\n",
              "      <td>14</td>\n",
              "      <td>8.8</td>\n",
              "    </tr>\n",
              "    <tr>\n",
              "      <th>11</th>\n",
              "      <td>12. O Senhor dos Anéis: As Duas Torres</td>\n",
              "      <td>2002</td>\n",
              "      <td>179</td>\n",
              "      <td>12</td>\n",
              "      <td>8.8</td>\n",
              "    </tr>\n",
              "    <tr>\n",
              "      <th>12</th>\n",
              "      <td>13. Clube da Luta</td>\n",
              "      <td>1999</td>\n",
              "      <td>139</td>\n",
              "      <td>18</td>\n",
              "      <td>8.8</td>\n",
              "    </tr>\n",
              "    <tr>\n",
              "      <th>13</th>\n",
              "      <td>14. A Origem</td>\n",
              "      <td>2010</td>\n",
              "      <td>148</td>\n",
              "      <td>14</td>\n",
              "      <td>8.8</td>\n",
              "    </tr>\n",
              "    <tr>\n",
              "      <th>14</th>\n",
              "      <td>15. Star Wars: Episódio V - O Império Contra-A...</td>\n",
              "      <td>1980</td>\n",
              "      <td>124</td>\n",
              "      <td>0</td>\n",
              "      <td>8.7</td>\n",
              "    </tr>\n",
              "    <tr>\n",
              "      <th>15</th>\n",
              "      <td>16. Matrix</td>\n",
              "      <td>1999</td>\n",
              "      <td>136</td>\n",
              "      <td>14</td>\n",
              "      <td>8.7</td>\n",
              "    </tr>\n",
              "    <tr>\n",
              "      <th>16</th>\n",
              "      <td>17. Os Bons Companheiros</td>\n",
              "      <td>1990</td>\n",
              "      <td>145</td>\n",
              "      <td>14</td>\n",
              "      <td>8.7</td>\n",
              "    </tr>\n",
              "    <tr>\n",
              "      <th>17</th>\n",
              "      <td>18. Um Estranho no Ninho</td>\n",
              "      <td>1975</td>\n",
              "      <td>133</td>\n",
              "      <td>16</td>\n",
              "      <td>8.7</td>\n",
              "    </tr>\n",
              "    <tr>\n",
              "      <th>18</th>\n",
              "      <td>19. Interestelar</td>\n",
              "      <td>2014</td>\n",
              "      <td>169</td>\n",
              "      <td>10</td>\n",
              "      <td>8.7</td>\n",
              "    </tr>\n",
              "    <tr>\n",
              "      <th>19</th>\n",
              "      <td>20. Seven: Os Sete Crimes Capitais</td>\n",
              "      <td>1995</td>\n",
              "      <td>127</td>\n",
              "      <td>14</td>\n",
              "      <td>8.6</td>\n",
              "    </tr>\n",
              "    <tr>\n",
              "      <th>20</th>\n",
              "      <td>21. A Felicidade Não se Compra</td>\n",
              "      <td>1946</td>\n",
              "      <td>130</td>\n",
              "      <td>0</td>\n",
              "      <td>8.6</td>\n",
              "    </tr>\n",
              "    <tr>\n",
              "      <th>21</th>\n",
              "      <td>22. Os Sete Samurais</td>\n",
              "      <td>1954</td>\n",
              "      <td>207</td>\n",
              "      <td>10</td>\n",
              "      <td>8.6</td>\n",
              "    </tr>\n",
              "    <tr>\n",
              "      <th>22</th>\n",
              "      <td>23. O Silêncio dos Inocentes</td>\n",
              "      <td>1991</td>\n",
              "      <td>118</td>\n",
              "      <td>14</td>\n",
              "      <td>8.6</td>\n",
              "    </tr>\n",
              "    <tr>\n",
              "      <th>23</th>\n",
              "      <td>24. O Resgate do Soldado Ryan</td>\n",
              "      <td>1998</td>\n",
              "      <td>169</td>\n",
              "      <td>14</td>\n",
              "      <td>8.6</td>\n",
              "    </tr>\n",
              "    <tr>\n",
              "      <th>24</th>\n",
              "      <td>25. Cidade de Deus</td>\n",
              "      <td>2002</td>\n",
              "      <td>130</td>\n",
              "      <td>18</td>\n",
              "      <td>8.6</td>\n",
              "    </tr>\n",
              "  </tbody>\n",
              "</table>\n",
              "</div>"
            ],
            "text/plain": [
              "                                               Título   Ano  Duração  \\\n",
              "0                            1. Um Sonho de Liberdade  1994      142   \n",
              "1                                2. O Poderoso Chefão  1972      175   \n",
              "2                   3. Batman: O Cavaleiro das Trevas  2008      152   \n",
              "3                             4. O Poderoso Chefão II  1974      202   \n",
              "4                         5. 12 Homens e uma Sentença  1957       96   \n",
              "5             6. O Senhor dos Anéis: O Retorno do Rei  2003      201   \n",
              "6                             7. A Lista de Schindler  1993      195   \n",
              "7                 8. Pulp Fiction: Tempo de Violência  1994      154   \n",
              "8          9. O Senhor dos Anéis: A Sociedade do Anel  2001      178   \n",
              "9                         10. Três Homens em Conflito  1966      161   \n",
              "10          11. Forrest Gump: O Contador de Histórias  1994      142   \n",
              "11             12. O Senhor dos Anéis: As Duas Torres  2002      179   \n",
              "12                                  13. Clube da Luta  1999      139   \n",
              "13                                       14. A Origem  2010      148   \n",
              "14  15. Star Wars: Episódio V - O Império Contra-A...  1980      124   \n",
              "15                                         16. Matrix  1999      136   \n",
              "16                           17. Os Bons Companheiros  1990      145   \n",
              "17                           18. Um Estranho no Ninho  1975      133   \n",
              "18                                   19. Interestelar  2014      169   \n",
              "19                 20. Seven: Os Sete Crimes Capitais  1995      127   \n",
              "20                     21. A Felicidade Não se Compra  1946      130   \n",
              "21                               22. Os Sete Samurais  1954      207   \n",
              "22                       23. O Silêncio dos Inocentes  1991      118   \n",
              "23                      24. O Resgate do Soldado Ryan  1998      169   \n",
              "24                                 25. Cidade de Deus  2002      130   \n",
              "\n",
              "    Classificação Indicativa  Nota  \n",
              "0                         16   9.3  \n",
              "1                         14   9.2  \n",
              "2                         12   9.0  \n",
              "3                         14   9.0  \n",
              "4                          0   9.0  \n",
              "5                         14   9.0  \n",
              "6                         14   9.0  \n",
              "7                         18   8.9  \n",
              "8                         12   8.9  \n",
              "9                         14   8.8  \n",
              "10                        14   8.8  \n",
              "11                        12   8.8  \n",
              "12                        18   8.8  \n",
              "13                        14   8.8  \n",
              "14                         0   8.7  \n",
              "15                        14   8.7  \n",
              "16                        14   8.7  \n",
              "17                        16   8.7  \n",
              "18                        10   8.7  \n",
              "19                        14   8.6  \n",
              "20                         0   8.6  \n",
              "21                        10   8.6  \n",
              "22                        14   8.6  \n",
              "23                        14   8.6  \n",
              "24                        18   8.6  "
            ]
          },
          "execution_count": 33,
          "metadata": {},
          "output_type": "execute_result"
        }
      ],
      "source": [
        "# Carregando o dataset\n",
        "df = pd.read_csv('filmes_imdb.csv')\n",
        "\n",
        "# Função para conerter Classificação Indicatia\n",
        "def converter_classificacao(classificacao):\n",
        "    if classificacao =='Livre':\n",
        "        return 0\n",
        "    elif classificacao.isdigit():\n",
        "        return int(classificacao)\n",
        "    else:\n",
        "        return 18 # Para casos não numérios\n",
        "\n",
        "# Função para coverter Duração\n",
        "def converter_duracao(duracao):\n",
        "    horas, minutos = duracao.split('h')\n",
        "    return int(horas) * 60 + int(minutos.strip('m'))\n",
        "\n",
        "# Criando um novo DataFrame com as informações tratadas\n",
        "df_filmes_tratados = df.copy()\n",
        "\n",
        "# Aplicando as conversões\n",
        "df_filmes_tratados['Classificação Indicativa'] = df_filmes_tratados['Classificação Indicativa'].apply(converter_classificacao)\n",
        "df_filmes_tratados['Duração'] = df_filmes_tratados['Duração'].apply(converter_duracao)\n",
        "df_filmes_tratados['Ano'] = df_filmes_tratados['Ano'].astype(int)\n",
        "df_filmes_tratados['Nota'] = df_filmes_tratados['Nota'].astype(float)\n",
        "\n",
        "# Verificando os tipos de dados\n",
        "df_filmes_tratados.dtypes\n",
        "\n",
        "# Exibindo as primeiras linhas do DataFrame tratado\n",
        "df_filmes_tratados.head(25)"
      ]
    },
    {
      "cell_type": "code",
      "execution_count": null,
      "metadata": {
        "id": "sfRficsFovLt",
        "outputId": "dfb994e1-589f-4312-c9cf-6b725ea30096"
      },
      "outputs": [
        {
          "name": "stdout",
          "output_type": "stream",
          "text": [
            "<class 'pandas.core.frame.DataFrame'>\n",
            "RangeIndex: 25 entries, 0 to 24\n",
            "Data columns (total 5 columns):\n",
            " #   Column                    Non-Null Count  Dtype  \n",
            "---  ------                    --------------  -----  \n",
            " 0   Título                    25 non-null     object \n",
            " 1   Ano                       25 non-null     int64  \n",
            " 2   Duração                   25 non-null     int64  \n",
            " 3   Classificação Indicativa  25 non-null     int64  \n",
            " 4   Nota                      25 non-null     float64\n",
            "dtypes: float64(1), int64(3), object(1)\n",
            "memory usage: 1.1+ KB\n"
          ]
        }
      ],
      "source": [
        "# informações Gerais do dataSet\n",
        "df_filmes_tratados.info()"
      ]
    },
    {
      "cell_type": "code",
      "execution_count": null,
      "metadata": {
        "id": "JcEfUs2EovLt",
        "outputId": "7151ad5c-d387-4ec7-d9c0-095da499f5d2"
      },
      "outputs": [
        {
          "data": {
            "text/html": [
              "<div>\n",
              "<style scoped>\n",
              "    .dataframe tbody tr th:only-of-type {\n",
              "        vertical-align: middle;\n",
              "    }\n",
              "\n",
              "    .dataframe tbody tr th {\n",
              "        vertical-align: top;\n",
              "    }\n",
              "\n",
              "    .dataframe thead th {\n",
              "        text-align: right;\n",
              "    }\n",
              "</style>\n",
              "<table border=\"1\" class=\"dataframe\">\n",
              "  <thead>\n",
              "    <tr style=\"text-align: right;\">\n",
              "      <th></th>\n",
              "      <th>Ano</th>\n",
              "      <th>Duração</th>\n",
              "      <th>Classificação Indicativa</th>\n",
              "      <th>Nota</th>\n",
              "    </tr>\n",
              "  </thead>\n",
              "  <tbody>\n",
              "    <tr>\n",
              "      <th>count</th>\n",
              "      <td>25.000000</td>\n",
              "      <td>25.000000</td>\n",
              "      <td>25.00000</td>\n",
              "      <td>25.000000</td>\n",
              "    </tr>\n",
              "    <tr>\n",
              "      <th>mean</th>\n",
              "      <td>1988.440000</td>\n",
              "      <td>154.080000</td>\n",
              "      <td>12.40000</td>\n",
              "      <td>8.816000</td>\n",
              "    </tr>\n",
              "    <tr>\n",
              "      <th>std</th>\n",
              "      <td>18.175258</td>\n",
              "      <td>28.855849</td>\n",
              "      <td>5.09902</td>\n",
              "      <td>0.195107</td>\n",
              "    </tr>\n",
              "    <tr>\n",
              "      <th>min</th>\n",
              "      <td>1946.000000</td>\n",
              "      <td>96.000000</td>\n",
              "      <td>0.00000</td>\n",
              "      <td>8.600000</td>\n",
              "    </tr>\n",
              "    <tr>\n",
              "      <th>25%</th>\n",
              "      <td>1975.000000</td>\n",
              "      <td>133.000000</td>\n",
              "      <td>12.00000</td>\n",
              "      <td>8.700000</td>\n",
              "    </tr>\n",
              "    <tr>\n",
              "      <th>50%</th>\n",
              "      <td>1994.000000</td>\n",
              "      <td>148.000000</td>\n",
              "      <td>14.00000</td>\n",
              "      <td>8.800000</td>\n",
              "    </tr>\n",
              "    <tr>\n",
              "      <th>75%</th>\n",
              "      <td>2001.000000</td>\n",
              "      <td>175.000000</td>\n",
              "      <td>14.00000</td>\n",
              "      <td>9.000000</td>\n",
              "    </tr>\n",
              "    <tr>\n",
              "      <th>max</th>\n",
              "      <td>2014.000000</td>\n",
              "      <td>207.000000</td>\n",
              "      <td>18.00000</td>\n",
              "      <td>9.300000</td>\n",
              "    </tr>\n",
              "  </tbody>\n",
              "</table>\n",
              "</div>"
            ],
            "text/plain": [
              "               Ano     Duração  Classificação Indicativa       Nota\n",
              "count    25.000000   25.000000                  25.00000  25.000000\n",
              "mean   1988.440000  154.080000                  12.40000   8.816000\n",
              "std      18.175258   28.855849                   5.09902   0.195107\n",
              "min    1946.000000   96.000000                   0.00000   8.600000\n",
              "25%    1975.000000  133.000000                  12.00000   8.700000\n",
              "50%    1994.000000  148.000000                  14.00000   8.800000\n",
              "75%    2001.000000  175.000000                  14.00000   9.000000\n",
              "max    2014.000000  207.000000                  18.00000   9.300000"
            ]
          },
          "execution_count": 37,
          "metadata": {},
          "output_type": "execute_result"
        }
      ],
      "source": [
        "# Estatísticas Descritivas básicas do dataSet\n",
        "df_filmes_tratados.describe()"
      ]
    },
    {
      "cell_type": "markdown",
      "metadata": {
        "id": "ZJ0qvYojovLt"
      },
      "source": [
        "**Análise exploratória**"
      ]
    },
    {
      "cell_type": "code",
      "execution_count": null,
      "metadata": {
        "id": "gaUtUM5zovLt",
        "outputId": "ad61927d-183c-496e-ed9e-9422542dbe47"
      },
      "outputs": [
        {
          "data": {
            "image/png": "[encoded data removed]",
            "text/plain": [
              "<Figure size 1000x600 with 1 Axes>"
            ]
          },
          "metadata": {},
          "output_type": "display_data"
        }
      ],
      "source": [
        "# Vamos começar com visualizações Básicas\n",
        "# Histograma das Notas\n",
        "plt.figure(figsize=(10, 6))\n",
        "sns.histplot(df['Nota'], bins=10, kde=True)\n",
        "plt.title('Distribuição das Notas')\n",
        "plt.xlabel('Nota')\n",
        "plt.ylabel('Frequência')\n",
        "plt.show()"
      ]
    },
    {
      "cell_type": "code",
      "execution_count": null,
      "metadata": {
        "id": "dZqL9PxwovLu",
        "outputId": "dd0319dc-9e3f-42f4-c465-5b19605583f5"
      },
      "outputs": [
        {
          "data": {
            "image/png": "[encoded data removed]",
            "text/plain": [
              "<Figure size 1200x600 with 1 Axes>"
            ]
          },
          "metadata": {},
          "output_type": "display_data"
        }
      ],
      "source": [
        "# Gráfico de dispersão: Ano vs Nota\n",
        "plt.figure(figsize=(12, 6))\n",
        "plt.scatter(df['Ano'], df['Nota'])\n",
        "\n",
        "# Adicionando linha de tendência\n",
        "z = np.polyfit(df['Ano'], df['Nota'], 1)\n",
        "p = np.poly1d(z)\n",
        "plt.plot(df['Ano'], p(df['Ano']), \"r--\", alpha=0.8)\n",
        "\n",
        "plt.title('Relação entre Ano e Nota')\n",
        "plt.xlabel('Ano')\n",
        "plt.ylabel('Nota')\n",
        "plt.show()"
      ]
    },
    {
      "cell_type": "code",
      "execution_count": null,
      "metadata": {
        "id": "onpygAvpovLu",
        "outputId": "51d09e81-eecb-47d4-9966-953879dc123c"
      },
      "outputs": [
        {
          "data": {
            "image/png": "[encoded data removed]",
            "text/plain": [
              "<Figure size 1000x600 with 1 Axes>"
            ]
          },
          "metadata": {},
          "output_type": "display_data"
        }
      ],
      "source": [
        "# Boxplot das notas por classificação indicativa\n",
        "plt.figure(figsize=(10, 6))\n",
        "sns.boxplot(x='Classificação Indicativa', y='Nota', data=df)\n",
        "plt.title('Notas por Classificação Indicativa')\n",
        "plt.show()"
      ]
    },
    {
      "cell_type": "markdown",
      "metadata": {
        "id": "2gcURUeTovLu"
      },
      "source": [
        "**Análise Diagnóstica**"
      ]
    },
    {
      "cell_type": "code",
      "execution_count": null,
      "metadata": {
        "id": "PQHSbiNQovLu",
        "outputId": "a0f12823-bddf-4f99-eeed-02db071785d8"
      },
      "outputs": [
        {
          "name": "stdout",
          "output_type": "stream",
          "text": [
            "Matriz de Correlação:\n",
            "              Ano   Duração      Nota\n",
            "Ano      1.000000  0.090261  0.046107\n",
            "Duração  0.090261  1.000000  0.258053\n",
            "Nota     0.046107  0.258053  1.000000\n"
          ]
        }
      ],
      "source": [
        "# Correlação entre variáveis numéricas\n",
        "correlacao = df_filmes_tratados[['Ano', 'Duração', 'Nota']].corr()\n",
        "print(\"Matriz de Correlação:\")\n",
        "print(correlacao)"
      ]
    },
    {
      "cell_type": "code",
      "execution_count": null,
      "metadata": {
        "id": "M49EcQIaovLu",
        "outputId": "a184211a-19c9-46e2-b7af-a845190890a1"
      },
      "outputs": [
        {
          "name": "stdout",
          "output_type": "stream",
          "text": [
            "\n",
            "Nota Média por Década:\n",
            "Década\n",
            "1940    8.600000\n",
            "1950    8.800000\n",
            "1960    8.800000\n",
            "1970    8.966667\n",
            "1980    8.700000\n",
            "1990    8.800000\n",
            "2000    8.860000\n",
            "2010    8.750000\n",
            "Name: Nota, dtype: float64\n"
          ]
        }
      ],
      "source": [
        "# Calculando a nota média por década\n",
        "df['Década'] = (df['Ano'] // 10) * 10\n",
        "nota_media_decada = df.groupby('Década')['Nota'].mean()\n",
        "print(\"\\nNota Média por Década:\")\n",
        "print(nota_media_decada)"
      ]
    },
    {
      "cell_type": "markdown",
      "metadata": {
        "id": "pleDTYJbovLu"
      },
      "source": [
        "**Análise Geral e Insights**\n",
        "\n",
        "Focaremos em dois KPIs principais: A Qualidade dos Filmes ao Longo do Tempo e a relação entre Classificação Indicativa e as Notas dos Filmes.\n",
        "\n",
        "O conjunto de dados, obtido através de web scraping do site do IMDB, da lista dos TOP 250 Melhores Filmes, foi obtido  no dia 25/09/2024.\n",
        "\n",
        "**1. Qualidade dos Filmes ao longo do tempo (KPI 1):**\n",
        "\n",
        "Nossa base de dados apresenta uma boa variação temporal, com filmes desde 1946 até 2014.\n",
        "Olhando para o gráfico de  dispersão Ano x Nota, percebe-se que o tempo tem pouca influência na qualidade do filme.\n",
        "A linha de tendência é praticamente horizontal, o que significar que filmes antigos podem ser tão bons quanto os filmes mais novos.\n",
        "\n",
        "A correlação entre Ano e Nota é de 0.046, o que é uma correlação bem baixa e fraca. Isso significa que não há uma relação forte entre o ano de lançamento\n",
        "e anota do filme.\n",
        "\n",
        "Outra coisa bem interessante é a nota média desses filmes, que é de 8.81, o que é bem alto. O filme com menor nota tem 8.6 e o melhor tem 9.3.\n",
        "\n",
        "**2. relação entre Classificação indicativa e Notas (KPI 2)**\n",
        "\n",
        "Olhando para o gráfico de Boxplot, percebemos que os filmes com classificação 16 anos parecem ter notas um pouco mais altas em média.\n",
        "\n",
        "O interessante é que filmes Livres e filmes para 18 anos tem uma distribuição de notas bem parecida. Indicando que a classificação indicativa não determina a qualidade do filme!\n",
        "\n",
        "A correlação entre Duração e Nota é de 0.258, o que é um pouco maior que a correlação com o Ano, mais ainda é uma correlação fraca.\n",
        "\n",
        "O que podemos concluir? Filmes excelentes podem vir de qualquer época e ter diferentes classificações indicativas. A qualidade de um filme é algo complexo que não depende só de quando ele foi feito ou para que idade ele é recomendado."
      ]
    },
    {
      "cell_type": "markdown",
      "metadata": {
        "id": "DoVBeLvAovLu"
      },
      "source": [
        "__________"
      ]
    },
    {
      "cell_type": "markdown",
      "metadata": {
        "id": "6WVsm1YpovLu"
      },
      "source": [
        "**Projeto de Análise de Dados da NBA para Sacramento Kings**\n",
        "\n",
        "**Objetivos:**\n",
        "\n",
        "Analisar dados dos jogadores da NBA para fornecer insights estratégicos ao presidente do time Sacramento Kings, visando melhorar o desempenho da equipe e otimizar decisões de contratação e desenvolvimento de jogadores.\n",
        "\n",
        "**Perguntas de negócio e KPIs:**\n",
        "\n",
        "**1. Como o Sacramento Kings se compara aos outros times em termos de rating dos jogadores?**\n",
        "  \n",
        "  **KPI:**\n",
        "  - Rating Médio dos Jogadores do Sacramento Kings\n",
        "  - Posição do Sacramento Kings no ranking de rating médio\n",
        "\n",
        "**2. Qual a relação entre a experiência dos jogadores e seus salários?**\n",
        "\n",
        "  **KPI:**\n",
        "   - Coeficiente de Correlação entre Experiência e Salário"
      ]
    },
    {
      "cell_type": "markdown",
      "metadata": {
        "id": "hMoY3bFpovLv"
      },
      "source": [
        "**Carregamento e análise inicial dos dados**"
      ]
    },
    {
      "cell_type": "code",
      "execution_count": null,
      "metadata": {
        "id": "NOO1DzuQovLv",
        "outputId": "325b809e-f187-49d4-d283-841fef874acf"
      },
      "outputs": [
        {
          "name": "stdout",
          "output_type": "stream",
          "text": [
            "Informações gerais sobre o dataset\n",
            "\n",
            "<class 'pandas.core.frame.DataFrame'>\n",
            "RangeIndex: 429 entries, 0 to 428\n",
            "Data columns (total 14 columns):\n",
            " #   Column       Non-Null Count  Dtype \n",
            "---  ------       --------------  ----- \n",
            " 0   full_name    429 non-null    object\n",
            " 1   rating       429 non-null    int64 \n",
            " 2   jersey       429 non-null    object\n",
            " 3   team         406 non-null    object\n",
            " 4   position     429 non-null    object\n",
            " 5   b_day        429 non-null    object\n",
            " 6   height       429 non-null    object\n",
            " 7   weight       429 non-null    object\n",
            " 8   salary       429 non-null    object\n",
            " 9   country      429 non-null    object\n",
            " 10  draft_year   429 non-null    int64 \n",
            " 11  draft_round  429 non-null    object\n",
            " 12  draft_peak   429 non-null    object\n",
            " 13  college      363 non-null    object\n",
            "dtypes: int64(2), object(12)\n",
            "memory usage: 47.1+ KB\n",
            "\n",
            "Estatísticas descritivas:\n"
          ]
        },
        {
          "data": {
            "text/html": [
              "<div>\n",
              "<style scoped>\n",
              "    .dataframe tbody tr th:only-of-type {\n",
              "        vertical-align: middle;\n",
              "    }\n",
              "\n",
              "    .dataframe tbody tr th {\n",
              "        vertical-align: top;\n",
              "    }\n",
              "\n",
              "    .dataframe thead th {\n",
              "        text-align: right;\n",
              "    }\n",
              "</style>\n",
              "<table border=\"1\" class=\"dataframe\">\n",
              "  <thead>\n",
              "    <tr style=\"text-align: right;\">\n",
              "      <th></th>\n",
              "      <th>rating</th>\n",
              "      <th>draft_year</th>\n",
              "    </tr>\n",
              "  </thead>\n",
              "  <tbody>\n",
              "    <tr>\n",
              "      <th>count</th>\n",
              "      <td>429.000000</td>\n",
              "      <td>429.000000</td>\n",
              "    </tr>\n",
              "    <tr>\n",
              "      <th>mean</th>\n",
              "      <td>76.372960</td>\n",
              "      <td>2014.093240</td>\n",
              "    </tr>\n",
              "    <tr>\n",
              "      <th>std</th>\n",
              "      <td>5.657748</td>\n",
              "      <td>3.937678</td>\n",
              "    </tr>\n",
              "    <tr>\n",
              "      <th>min</th>\n",
              "      <td>67.000000</td>\n",
              "      <td>2001.000000</td>\n",
              "    </tr>\n",
              "    <tr>\n",
              "      <th>25%</th>\n",
              "      <td>72.000000</td>\n",
              "      <td>2012.000000</td>\n",
              "    </tr>\n",
              "    <tr>\n",
              "      <th>50%</th>\n",
              "      <td>75.000000</td>\n",
              "      <td>2015.000000</td>\n",
              "    </tr>\n",
              "    <tr>\n",
              "      <th>75%</th>\n",
              "      <td>79.000000</td>\n",
              "      <td>2017.000000</td>\n",
              "    </tr>\n",
              "    <tr>\n",
              "      <th>max</th>\n",
              "      <td>97.000000</td>\n",
              "      <td>2019.000000</td>\n",
              "    </tr>\n",
              "  </tbody>\n",
              "</table>\n",
              "</div>"
            ],
            "text/plain": [
              "           rating   draft_year\n",
              "count  429.000000   429.000000\n",
              "mean    76.372960  2014.093240\n",
              "std      5.657748     3.937678\n",
              "min     67.000000  2001.000000\n",
              "25%     72.000000  2012.000000\n",
              "50%     75.000000  2015.000000\n",
              "75%     79.000000  2017.000000\n",
              "max     97.000000  2019.000000"
            ]
          },
          "execution_count": 63,
          "metadata": {},
          "output_type": "execute_result"
        }
      ],
      "source": [
        "import pandas as pd\n",
        "import matplotlib.pyplot as plt\n",
        "import seaborn as sns\n",
        "import numpy as np\n",
        "import re\n",
        "import plotly.graph_objects as go\n",
        "from matplotlib.ticker import FuncFormatter\n",
        "\n",
        "# Carregando os dados\n",
        "df = pd.read_csv('Simulador_Nivel_4.csv')\n",
        "\n",
        "# Exibimdo informações gerais sobre o dataset\n",
        "print('Informações gerais sobre o dataset\\n')\n",
        "df.info()\n",
        "\n",
        "print(\"\\nEstatísticas descritivas:\")\n",
        "df.describe()"
      ]
    },
    {
      "cell_type": "code",
      "execution_count": null,
      "metadata": {
        "id": "mOXczAXBovLv",
        "outputId": "5a49d89a-ea3a-45d5-f7fd-7aa2a90f24cf"
      },
      "outputs": [
        {
          "name": "stdout",
          "output_type": "stream",
          "text": [
            "Verificando os valores ausentes/nulos\n"
          ]
        },
        {
          "data": {
            "text/plain": [
              "full_name       0\n",
              "rating          0\n",
              "jersey          0\n",
              "team           23\n",
              "position        0\n",
              "b_day           0\n",
              "height          0\n",
              "weight          0\n",
              "salary          0\n",
              "country         0\n",
              "draft_year      0\n",
              "draft_round     0\n",
              "draft_peak      0\n",
              "college        66\n",
              "dtype: int64"
            ]
          },
          "execution_count": 9,
          "metadata": {},
          "output_type": "execute_result"
        }
      ],
      "source": [
        "# Verificando valores ausentes\n",
        "print('Verificando os valores ausentes/nulos')\n",
        "df.isnull().sum()"
      ]
    },
    {
      "cell_type": "code",
      "execution_count": null,
      "metadata": {
        "id": "sbd5e1NvovLv",
        "outputId": "836da606-3cbe-4960-8382-21639ff133de"
      },
      "outputs": [
        {
          "data": {
            "text/html": [
              "<div>\n",
              "<style scoped>\n",
              "    .dataframe tbody tr th:only-of-type {\n",
              "        vertical-align: middle;\n",
              "    }\n",
              "\n",
              "    .dataframe tbody tr th {\n",
              "        vertical-align: top;\n",
              "    }\n",
              "\n",
              "    .dataframe thead th {\n",
              "        text-align: right;\n",
              "    }\n",
              "</style>\n",
              "<table border=\"1\" class=\"dataframe\">\n",
              "  <thead>\n",
              "    <tr style=\"text-align: right;\">\n",
              "      <th></th>\n",
              "      <th>full_name</th>\n",
              "      <th>rating</th>\n",
              "      <th>jersey</th>\n",
              "      <th>team</th>\n",
              "      <th>position</th>\n",
              "      <th>b_day</th>\n",
              "      <th>peso_kg</th>\n",
              "      <th>salary</th>\n",
              "      <th>country</th>\n",
              "      <th>draft_year</th>\n",
              "      <th>draft_round</th>\n",
              "      <th>draft_peak</th>\n",
              "      <th>college</th>\n",
              "      <th>experiencia</th>\n",
              "    </tr>\n",
              "  </thead>\n",
              "  <tbody>\n",
              "    <tr>\n",
              "      <th>0</th>\n",
              "      <td>LeBron James</td>\n",
              "      <td>97</td>\n",
              "      <td>#23</td>\n",
              "      <td>Los Angeles Lakers</td>\n",
              "      <td>F</td>\n",
              "      <td>12/30/84</td>\n",
              "      <td>113.398000</td>\n",
              "      <td>37436858.0</td>\n",
              "      <td>USA</td>\n",
              "      <td>2003</td>\n",
              "      <td>1</td>\n",
              "      <td>1</td>\n",
              "      <td>Não Informado</td>\n",
              "      <td>20</td>\n",
              "    </tr>\n",
              "    <tr>\n",
              "      <th>1</th>\n",
              "      <td>Kawhi Leonard</td>\n",
              "      <td>97</td>\n",
              "      <td>#2</td>\n",
              "      <td>Los Angeles Clippers</td>\n",
              "      <td>F</td>\n",
              "      <td>06/29/91</td>\n",
              "      <td>102.058200</td>\n",
              "      <td>32742000.0</td>\n",
              "      <td>USA</td>\n",
              "      <td>2011</td>\n",
              "      <td>1</td>\n",
              "      <td>15</td>\n",
              "      <td>San Diego State</td>\n",
              "      <td>12</td>\n",
              "    </tr>\n",
              "    <tr>\n",
              "      <th>2</th>\n",
              "      <td>Giannis Antetokounmpo</td>\n",
              "      <td>96</td>\n",
              "      <td>#34</td>\n",
              "      <td>Milwaukee Bucks</td>\n",
              "      <td>F-G</td>\n",
              "      <td>12/06/94</td>\n",
              "      <td>109.769264</td>\n",
              "      <td>25842697.0</td>\n",
              "      <td>Greece</td>\n",
              "      <td>2013</td>\n",
              "      <td>1</td>\n",
              "      <td>15</td>\n",
              "      <td>Não Informado</td>\n",
              "      <td>10</td>\n",
              "    </tr>\n",
              "    <tr>\n",
              "      <th>3</th>\n",
              "      <td>Kevin Durant</td>\n",
              "      <td>96</td>\n",
              "      <td>#7</td>\n",
              "      <td>Brooklyn Nets</td>\n",
              "      <td>F</td>\n",
              "      <td>09/29/88</td>\n",
              "      <td>104.326160</td>\n",
              "      <td>37199000.0</td>\n",
              "      <td>USA</td>\n",
              "      <td>2007</td>\n",
              "      <td>1</td>\n",
              "      <td>2</td>\n",
              "      <td>Texas</td>\n",
              "      <td>16</td>\n",
              "    </tr>\n",
              "    <tr>\n",
              "      <th>4</th>\n",
              "      <td>James Harden</td>\n",
              "      <td>96</td>\n",
              "      <td>#13</td>\n",
              "      <td>Houston Rockets</td>\n",
              "      <td>G</td>\n",
              "      <td>08/26/89</td>\n",
              "      <td>99.790240</td>\n",
              "      <td>38199000.0</td>\n",
              "      <td>USA</td>\n",
              "      <td>2009</td>\n",
              "      <td>1</td>\n",
              "      <td>3</td>\n",
              "      <td>Arizona State</td>\n",
              "      <td>14</td>\n",
              "    </tr>\n",
              "    <tr>\n",
              "      <th>...</th>\n",
              "      <td>...</td>\n",
              "      <td>...</td>\n",
              "      <td>...</td>\n",
              "      <td>...</td>\n",
              "      <td>...</td>\n",
              "      <td>...</td>\n",
              "      <td>...</td>\n",
              "      <td>...</td>\n",
              "      <td>...</td>\n",
              "      <td>...</td>\n",
              "      <td>...</td>\n",
              "      <td>...</td>\n",
              "      <td>...</td>\n",
              "      <td>...</td>\n",
              "    </tr>\n",
              "    <tr>\n",
              "      <th>424</th>\n",
              "      <td>Brandon Goodwin</td>\n",
              "      <td>68</td>\n",
              "      <td>#0</td>\n",
              "      <td>Atlanta Hawks</td>\n",
              "      <td>G</td>\n",
              "      <td>10/02/95</td>\n",
              "      <td>81.646560</td>\n",
              "      <td>522738.0</td>\n",
              "      <td>USA</td>\n",
              "      <td>2018</td>\n",
              "      <td>0</td>\n",
              "      <td>Undrafted</td>\n",
              "      <td>Florida Gulf Coast</td>\n",
              "      <td>5</td>\n",
              "    </tr>\n",
              "    <tr>\n",
              "      <th>425</th>\n",
              "      <td>Michael Frazier</td>\n",
              "      <td>68</td>\n",
              "      <td>#21</td>\n",
              "      <td>Houston Rockets</td>\n",
              "      <td>G</td>\n",
              "      <td>03/08/94</td>\n",
              "      <td>90.718400</td>\n",
              "      <td>79568.0</td>\n",
              "      <td>USA</td>\n",
              "      <td>2015</td>\n",
              "      <td>2</td>\n",
              "      <td>60</td>\n",
              "      <td>Florida</td>\n",
              "      <td>8</td>\n",
              "    </tr>\n",
              "    <tr>\n",
              "      <th>426</th>\n",
              "      <td>Kostas Antetokounmpo</td>\n",
              "      <td>68</td>\n",
              "      <td>#37</td>\n",
              "      <td>Los Angeles Lakers</td>\n",
              "      <td>F</td>\n",
              "      <td>11/20/97</td>\n",
              "      <td>90.718400</td>\n",
              "      <td>79568.0</td>\n",
              "      <td>Greece</td>\n",
              "      <td>2018</td>\n",
              "      <td>0</td>\n",
              "      <td>Undrafted</td>\n",
              "      <td>Dayton</td>\n",
              "      <td>5</td>\n",
              "    </tr>\n",
              "    <tr>\n",
              "      <th>427</th>\n",
              "      <td>Jalen Lecque</td>\n",
              "      <td>68</td>\n",
              "      <td>#0</td>\n",
              "      <td>Phoenix Suns</td>\n",
              "      <td>G</td>\n",
              "      <td>06/13/00</td>\n",
              "      <td>86.182480</td>\n",
              "      <td>898310.0</td>\n",
              "      <td>USA</td>\n",
              "      <td>2019</td>\n",
              "      <td>0</td>\n",
              "      <td>Undrafted</td>\n",
              "      <td>Não Informado</td>\n",
              "      <td>4</td>\n",
              "    </tr>\n",
              "    <tr>\n",
              "      <th>428</th>\n",
              "      <td>Duncan Robinson</td>\n",
              "      <td>67</td>\n",
              "      <td>#55</td>\n",
              "      <td>Miami Heat</td>\n",
              "      <td>F</td>\n",
              "      <td>04/22/94</td>\n",
              "      <td>97.522280</td>\n",
              "      <td>1416852.0</td>\n",
              "      <td>USA</td>\n",
              "      <td>2018</td>\n",
              "      <td>0</td>\n",
              "      <td>Undrafted</td>\n",
              "      <td>Michigan</td>\n",
              "      <td>5</td>\n",
              "    </tr>\n",
              "  </tbody>\n",
              "</table>\n",
              "<p>406 rows × 14 columns</p>\n",
              "</div>"
            ],
            "text/plain": [
              "                 full_name  rating jersey                  team position  \\\n",
              "0             LeBron James      97    #23    Los Angeles Lakers        F   \n",
              "1            Kawhi Leonard      97     #2  Los Angeles Clippers        F   \n",
              "2    Giannis Antetokounmpo      96    #34       Milwaukee Bucks      F-G   \n",
              "3             Kevin Durant      96     #7         Brooklyn Nets        F   \n",
              "4             James Harden      96    #13       Houston Rockets        G   \n",
              "..                     ...     ...    ...                   ...      ...   \n",
              "424        Brandon Goodwin      68     #0         Atlanta Hawks        G   \n",
              "425        Michael Frazier      68    #21       Houston Rockets        G   \n",
              "426   Kostas Antetokounmpo      68    #37    Los Angeles Lakers        F   \n",
              "427           Jalen Lecque      68     #0          Phoenix Suns        G   \n",
              "428        Duncan Robinson      67    #55            Miami Heat        F   \n",
              "\n",
              "        b_day     peso_kg      salary country  draft_year  draft_round  \\\n",
              "0    12/30/84  113.398000  37436858.0     USA        2003            1   \n",
              "1    06/29/91  102.058200  32742000.0     USA        2011            1   \n",
              "2    12/06/94  109.769264  25842697.0  Greece        2013            1   \n",
              "3    09/29/88  104.326160  37199000.0     USA        2007            1   \n",
              "4    08/26/89   99.790240  38199000.0     USA        2009            1   \n",
              "..        ...         ...         ...     ...         ...          ...   \n",
              "424  10/02/95   81.646560    522738.0     USA        2018            0   \n",
              "425  03/08/94   90.718400     79568.0     USA        2015            2   \n",
              "426  11/20/97   90.718400     79568.0  Greece        2018            0   \n",
              "427  06/13/00   86.182480    898310.0     USA        2019            0   \n",
              "428  04/22/94   97.522280   1416852.0     USA        2018            0   \n",
              "\n",
              "    draft_peak             college  experiencia  \n",
              "0            1       Não Informado           20  \n",
              "1           15     San Diego State           12  \n",
              "2           15       Não Informado           10  \n",
              "3            2               Texas           16  \n",
              "4            3       Arizona State           14  \n",
              "..         ...                 ...          ...  \n",
              "424  Undrafted  Florida Gulf Coast            5  \n",
              "425         60             Florida            8  \n",
              "426  Undrafted              Dayton            5  \n",
              "427  Undrafted       Não Informado            4  \n",
              "428  Undrafted            Michigan            5  \n",
              "\n",
              "[406 rows x 14 columns]"
            ]
          },
          "execution_count": 27,
          "metadata": {},
          "output_type": "execute_result"
        }
      ],
      "source": [
        "# Tratar valores ausentes\n",
        "df = df.dropna(subset=['team', 'position'])\n",
        "df['college'] = df['college'].fillna('Não Informado')\n",
        "\n",
        "# Converter \"salary\" para numérico\n",
        "df['salary'] = df['salary'].apply(lambda x: re.sub(r'[^0-9.]', '', str(x))).astype(float)\n",
        "\n",
        "# Converter \"weight\" (libras) para \"peso_kg\" (kg)\n",
        "# Extrair apenas os números da string usando expressões regulares\n",
        "df['weight'] = df['weight'].apply(lambda x: re.findall(r'\\d+\\.?\\d*', str(x))[0] if re.findall(r'\\d+\\.?\\d*', str(x)) else None)\n",
        "df['peso_kg'] = df['weight'].astype(float) * 0.453592\n",
        "\n",
        "# Converter \"draft_round\" para numérico (tratar \"Undrafted\" como 0)\n",
        "df['draft_round'] = pd.to_numeric(df['draft_round'], errors='coerce').fillna(0).astype(int)\n",
        "\n",
        "# Criar coluna \"experiencia\" (anos desde o draft)\n",
        "df['experiencia'] = 2023 - df['draft_year']\n",
        "\n",
        "# Criar o DataFrame df_tratado (sem a coluna \"height\")\n",
        "df_tratado = df[['full_name', 'rating', 'jersey', 'team', 'position', 'b_day',\n",
        "                       'peso_kg', 'salary', 'country', 'draft_year', 'draft_round',\n",
        "                       'draft_peak', 'college', 'experiencia']]\n",
        "\n",
        "df_tratado"
      ]
    },
    {
      "cell_type": "code",
      "execution_count": null,
      "metadata": {
        "id": "_0y663x2ovLw",
        "outputId": "1b380175-1f8d-4a41-da1e-83c83eaabb98"
      },
      "outputs": [
        {
          "name": "stdout",
          "output_type": "stream",
          "text": [
            "<class 'pandas.core.frame.DataFrame'>\n",
            "Index: 406 entries, 0 to 428\n",
            "Data columns (total 14 columns):\n",
            " #   Column       Non-Null Count  Dtype  \n",
            "---  ------       --------------  -----  \n",
            " 0   full_name    406 non-null    object \n",
            " 1   rating       406 non-null    int64  \n",
            " 2   jersey       406 non-null    object \n",
            " 3   team         406 non-null    object \n",
            " 4   position     406 non-null    object \n",
            " 5   b_day        406 non-null    object \n",
            " 6   peso_kg      406 non-null    float64\n",
            " 7   salary       406 non-null    float64\n",
            " 8   country      406 non-null    object \n",
            " 9   draft_year   406 non-null    int64  \n",
            " 10  draft_round  406 non-null    int64  \n",
            " 11  draft_peak   406 non-null    object \n",
            " 12  college      406 non-null    object \n",
            " 13  experiencia  406 non-null    int64  \n",
            "dtypes: float64(2), int64(4), object(8)\n",
            "memory usage: 47.6+ KB\n"
          ]
        }
      ],
      "source": [
        "df_tratado.info()"
      ]
    },
    {
      "cell_type": "markdown",
      "metadata": {
        "id": "SrZiLkH3ovLw"
      },
      "source": [
        "**Algumas informações Gerais sobre o Dataset**"
      ]
    },
    {
      "cell_type": "code",
      "execution_count": null,
      "metadata": {
        "id": "xHrQyvMyovLw",
        "outputId": "199ed5ec-eaa1-4e49-93e7-9702dfb8a7ca"
      },
      "outputs": [
        {
          "data": {
            "image/png": "[encoded data removed]",
            "text/plain": [
              "<Figure size 1400x800 with 1 Axes>"
            ]
          },
          "metadata": {},
          "output_type": "display_data"
        }
      ],
      "source": [
        "# Distribuição do Rating dos jogadores\n",
        "plt.figure(figsize=(14, 8))\n",
        "plt.hist(df_tratado['rating'], bins=10, edgecolor='black')\n",
        "plt.title('Distribuição do Rating dos Jogadores da NBA')\n",
        "plt.xlabel('Rating')\n",
        "plt.ylabel('Frequência')\n",
        "plt.show()"
      ]
    },
    {
      "cell_type": "code",
      "execution_count": null,
      "metadata": {
        "id": "6xsoBA5FovLw",
        "outputId": "9ee41358-5989-4bd7-c1e7-ab3333377e3c"
      },
      "outputs": [
        {
          "data": {
            "image/png": "[encoded data removed]",
            "text/plain": [
              "<Figure size 1400x800 with 1 Axes>"
            ]
          },
          "metadata": {},
          "output_type": "display_data"
        }
      ],
      "source": [
        "# Jogadores por Posição\n",
        "plt.figure(figsize=(14, 8))\n",
        "df_tratado['position'].value_counts().plot(kind='bar')\n",
        "plt.title('Quantidade de Jogadores por Posição')\n",
        "plt.xlabel('Posição')\n",
        "plt.ylabel('Quantidade')\n",
        "plt.show()"
      ]
    },
    {
      "cell_type": "code",
      "execution_count": null,
      "metadata": {
        "id": "AWhmOvsQovLw",
        "outputId": "cefce5e1-13a5-4e03-b363-22dc683096c7"
      },
      "outputs": [
        {
          "data": {
            "image/png": "[encoded data removed]",
            "text/plain": [
              "<Figure size 1400x800 with 1 Axes>"
            ]
          },
          "metadata": {},
          "output_type": "display_data"
        }
      ],
      "source": [
        "# Média de salário por Time\n",
        "plt.figure(figsize=(14, 8))\n",
        "df_tratado.groupby('team')['salary'].mean().sort_values(ascending=False).plot(kind='bar')\n",
        "plt.title('Média de Salário dos Jogadores por Time')\n",
        "plt.xlabel('Time')\n",
        "plt.ylabel('Média Salarial')\n",
        "plt.xticks(rotation=45, ha='right')  # Rotacionar os rótulos do eixo X para melhor visualização\n",
        "plt.show()"
      ]
    },
    {
      "cell_type": "code",
      "execution_count": null,
      "metadata": {
        "id": "Xl_ULt35ovLx",
        "outputId": "9c3ecac0-caaa-4c0d-ecbe-ef25bed9b303"
      },
      "outputs": [
        {
          "data": {
            "application/vnd.plotly.v1+json": {
              "config": {
                "plotlyServerURL": "https://plot.ly"
              },
              "data": [
                {
                  "locationmode": "country names",
                  "locations": [
                    "USA",
                    "Canada",
                    "Australia",
                    "France",
                    "Croatia",
                    "Spain",
                    "Serbia",
                    "Germany",
                    "Turkey",
                    "Italy",
                    "Latvia",
                    "Nigeria",
                    "Greece",
                    "Brazil",
                    "Democratic Republic of the Congo",
                    "Ukraine",
                    "Lithuania",
                    "Bosnia and Herzegovina",
                    "The Bahamas",
                    "Cameroon",
                    "Slovenia",
                    "Philippines",
                    "Dominican Republic",
                    "Haiti",
                    "Angola",
                    "Georgia",
                    "Finland",
                    "United Kingdom",
                    "Japan",
                    "Israel",
                    "Mali",
                    "Czech",
                    "New Zealand",
                    "Senegal",
                    "Puerto Rico",
                    "Austria",
                    "Montenegro",
                    "Switzerland",
                    "Egypt"
                  ],
                  "marker": {
                    "cmax": 302,
                    "cmin": 0,
                    "color": [
                      302,
                      15,
                      9,
                      8,
                      6,
                      5,
                      5,
                      5,
                      4,
                      4,
                      3,
                      3,
                      3,
                      2,
                      2,
                      2,
                      2,
                      2,
                      2,
                      2,
                      2,
                      1,
                      1,
                      1,
                      1,
                      1,
                      1,
                      1,
                      1,
                      1,
                      1,
                      1,
                      1,
                      1,
                      1,
                      1,
                      1,
                      1,
                      1
                    ],
                    "colorbar": {
                      "title": {
                        "text": "Número de Jogadores"
                      }
                    },
                    "colorscale": [
                      [
                        0,
                        "#440154"
                      ],
                      [
                        0.1111111111111111,
                        "#482878"
                      ],
                      [
                        0.2222222222222222,
                        "#3e4989"
                      ],
                      [
                        0.3333333333333333,
                        "#31688e"
                      ],
                      [
                        0.4444444444444444,
                        "#26828e"
                      ],
                      [
                        0.5555555555555556,
                        "#1f9e89"
                      ],
                      [
                        0.6666666666666666,
                        "#35b779"
                      ],
                      [
                        0.7777777777777778,
                        "#6ece58"
                      ],
                      [
                        0.8888888888888888,
                        "#b5de2b"
                      ],
                      [
                        1,
                        "#fde725"
                      ]
                    ],
                    "line": {
                      "color": "rgb(40,40,40)",
                      "width": 0.5
                    },
                    "size": [
                      1510,
                      75,
                      45,
                      40,
                      30,
                      25,
                      25,
                      25,
                      20,
                      20,
                      15,
                      15,
                      15,
                      10,
                      10,
                      10,
                      10,
                      10,
                      10,
                      10,
                      10,
                      5,
                      5,
                      5,
                      5,
                      5,
                      5,
                      5,
                      5,
                      5,
                      5,
                      5,
                      5,
                      5,
                      5,
                      5,
                      5,
                      5,
                      5
                    ],
                    "sizemin": 4,
                    "sizemode": "area",
                    "sizeref": 0.3775
                  },
                  "mode": "markers",
                  "text": [
                    "USA",
                    "Canada",
                    "Australia",
                    "France",
                    "Croatia",
                    "Spain",
                    "Serbia",
                    "Germany",
                    "Turkey",
                    "Italy",
                    "Latvia",
                    "Nigeria",
                    "Greece",
                    "Brazil",
                    "Democratic Republic of the Congo",
                    "Ukraine",
                    "Lithuania",
                    "Bosnia and Herzegovina",
                    "The Bahamas",
                    "Cameroon",
                    "Slovenia",
                    "Philippines",
                    "Dominican Republic",
                    "Haiti",
                    "Angola",
                    "Georgia",
                    "Finland",
                    "United Kingdom",
                    "Japan",
                    "Israel",
                    "Mali",
                    "Czech",
                    "New Zealand",
                    "Senegal",
                    "Puerto Rico",
                    "Austria",
                    "Montenegro",
                    "Switzerland",
                    "Egypt"
                  ],
                  "type": "scattergeo"
                }
              ],
              "layout": {
                "geo": {
                  "countrycolor": "rgb(255, 255, 255)",
                  "countrywidth": 0.5,
                  "landcolor": "rgb(217, 217, 217)",
                  "projection": {
                    "type": "natural earth"
                  },
                  "showframe": false,
                  "showland": true,
                  "subunitcolor": "rgb(255, 255, 255)",
                  "subunitwidth": 0.5
                },
                "height": 600,
                "template": {
                  "data": {
                    "bar": [
                      {
                        "error_x": {
                          "color": "#2a3f5f"
                        },
                        "error_y": {
                          "color": "#2a3f5f"
                        },
                        "marker": {
                          "line": {
                            "color": "#E5ECF6",
                            "width": 0.5
                          },
                          "pattern": {
                            "fillmode": "overlay",
                            "size": 10,
                            "solidity": 0.2
                          }
                        },
                        "type": "bar"
                      }
                    ],
                    "barpolar": [
                      {
                        "marker": {
                          "line": {
                            "color": "#E5ECF6",
                            "width": 0.5
                          },
                          "pattern": {
                            "fillmode": "overlay",
                            "size": 10,
                            "solidity": 0.2
                          }
                        },
                        "type": "barpolar"
                      }
                    ],
                    "carpet": [
                      {
                        "aaxis": {
                          "endlinecolor": "#2a3f5f",
                          "gridcolor": "white",
                          "linecolor": "white",
                          "minorgridcolor": "white",
                          "startlinecolor": "#2a3f5f"
                        },
                        "baxis": {
                          "endlinecolor": "#2a3f5f",
                          "gridcolor": "white",
                          "linecolor": "white",
                          "minorgridcolor": "white",
                          "startlinecolor": "#2a3f5f"
                        },
                        "type": "carpet"
                      }
                    ],
                    "choropleth": [
                      {
                        "colorbar": {
                          "outlinewidth": 0,
                          "ticks": ""
                        },
                        "type": "choropleth"
                      }
                    ],
                    "contour": [
                      {
                        "colorbar": {
                          "outlinewidth": 0,
                          "ticks": ""
                        },
                        "colorscale": [
                          [
                            0,
                            "#0d0887"
                          ],
                          [
                            0.1111111111111111,
                            "#46039f"
                          ],
                          [
                            0.2222222222222222,
                            "#7201a8"
                          ],
                          [
                            0.3333333333333333,
                            "#9c179e"
                          ],
                          [
                            0.4444444444444444,
                            "#bd3786"
                          ],
                          [
                            0.5555555555555556,
                            "#d8576b"
                          ],
                          [
                            0.6666666666666666,
                            "#ed7953"
                          ],
                          [
                            0.7777777777777778,
                            "#fb9f3a"
                          ],
                          [
                            0.8888888888888888,
                            "#fdca26"
                          ],
                          [
                            1,
                            "#f0f921"
                          ]
                        ],
                        "type": "contour"
                      }
                    ],
                    "contourcarpet": [
                      {
                        "colorbar": {
                          "outlinewidth": 0,
                          "ticks": ""
                        },
                        "type": "contourcarpet"
                      }
                    ],
                    "heatmap": [
                      {
                        "colorbar": {
                          "outlinewidth": 0,
                          "ticks": ""
                        },
                        "colorscale": [
                          [
                            0,
                            "#0d0887"
                          ],
                          [
                            0.1111111111111111,
                            "#46039f"
                          ],
                          [
                            0.2222222222222222,
                            "#7201a8"
                          ],
                          [
                            0.3333333333333333,
                            "#9c179e"
                          ],
                          [
                            0.4444444444444444,
                            "#bd3786"
                          ],
                          [
                            0.5555555555555556,
                            "#d8576b"
                          ],
                          [
                            0.6666666666666666,
                            "#ed7953"
                          ],
                          [
                            0.7777777777777778,
                            "#fb9f3a"
                          ],
                          [
                            0.8888888888888888,
                            "#fdca26"
                          ],
                          [
                            1,
                            "#f0f921"
                          ]
                        ],
                        "type": "heatmap"
                      }
                    ],
                    "heatmapgl": [
                      {
                        "colorbar": {
                          "outlinewidth": 0,
                          "ticks": ""
                        },
                        "colorscale": [
                          [
                            0,
                            "#0d0887"
                          ],
                          [
                            0.1111111111111111,
                            "#46039f"
                          ],
                          [
                            0.2222222222222222,
                            "#7201a8"
                          ],
                          [
                            0.3333333333333333,
                            "#9c179e"
                          ],
                          [
                            0.4444444444444444,
                            "#bd3786"
                          ],
                          [
                            0.5555555555555556,
                            "#d8576b"
                          ],
                          [
                            0.6666666666666666,
                            "#ed7953"
                          ],
                          [
                            0.7777777777777778,
                            "#fb9f3a"
                          ],
                          [
                            0.8888888888888888,
                            "#fdca26"
                          ],
                          [
                            1,
                            "#f0f921"
                          ]
                        ],
                        "type": "heatmapgl"
                      }
                    ],
                    "histogram": [
                      {
                        "marker": {
                          "pattern": {
                            "fillmode": "overlay",
                            "size": 10,
                            "solidity": 0.2
                          }
                        },
                        "type": "histogram"
                      }
                    ],
                    "histogram2d": [
                      {
                        "colorbar": {
                          "outlinewidth": 0,
                          "ticks": ""
                        },
                        "colorscale": [
                          [
                            0,
                            "#0d0887"
                          ],
                          [
                            0.1111111111111111,
                            "#46039f"
                          ],
                          [
                            0.2222222222222222,
                            "#7201a8"
                          ],
                          [
                            0.3333333333333333,
                            "#9c179e"
                          ],
                          [
                            0.4444444444444444,
                            "#bd3786"
                          ],
                          [
                            0.5555555555555556,
                            "#d8576b"
                          ],
                          [
                            0.6666666666666666,
                            "#ed7953"
                          ],
                          [
                            0.7777777777777778,
                            "#fb9f3a"
                          ],
                          [
                            0.8888888888888888,
                            "#fdca26"
                          ],
                          [
                            1,
                            "#f0f921"
                          ]
                        ],
                        "type": "histogram2d"
                      }
                    ],
                    "histogram2dcontour": [
                      {
                        "colorbar": {
                          "outlinewidth": 0,
                          "ticks": ""
                        },
                        "colorscale": [
                          [
                            0,
                            "#0d0887"
                          ],
                          [
                            0.1111111111111111,
                            "#46039f"
                          ],
                          [
                            0.2222222222222222,
                            "#7201a8"
                          ],
                          [
                            0.3333333333333333,
                            "#9c179e"
                          ],
                          [
                            0.4444444444444444,
                            "#bd3786"
                          ],
                          [
                            0.5555555555555556,
                            "#d8576b"
                          ],
                          [
                            0.6666666666666666,
                            "#ed7953"
                          ],
                          [
                            0.7777777777777778,
                            "#fb9f3a"
                          ],
                          [
                            0.8888888888888888,
                            "#fdca26"
                          ],
                          [
                            1,
                            "#f0f921"
                          ]
                        ],
                        "type": "histogram2dcontour"
                      }
                    ],
                    "mesh3d": [
                      {
                        "colorbar": {
                          "outlinewidth": 0,
                          "ticks": ""
                        },
                        "type": "mesh3d"
                      }
                    ],
                    "parcoords": [
                      {
                        "line": {
                          "colorbar": {
                            "outlinewidth": 0,
                            "ticks": ""
                          }
                        },
                        "type": "parcoords"
                      }
                    ],
                    "pie": [
                      {
                        "automargin": true,
                        "type": "pie"
                      }
                    ],
                    "scatter": [
                      {
                        "fillpattern": {
                          "fillmode": "overlay",
                          "size": 10,
                          "solidity": 0.2
                        },
                        "type": "scatter"
                      }
                    ],
                    "scatter3d": [
                      {
                        "line": {
                          "colorbar": {
                            "outlinewidth": 0,
                            "ticks": ""
                          }
                        },
                        "marker": {
                          "colorbar": {
                            "outlinewidth": 0,
                            "ticks": ""
                          }
                        },
                        "type": "scatter3d"
                      }
                    ],
                    "scattercarpet": [
                      {
                        "marker": {
                          "colorbar": {
                            "outlinewidth": 0,
                            "ticks": ""
                          }
                        },
                        "type": "scattercarpet"
                      }
                    ],
                    "scattergeo": [
                      {
                        "marker": {
                          "colorbar": {
                            "outlinewidth": 0,
                            "ticks": ""
                          }
                        },
                        "type": "scattergeo"
                      }
                    ],
                    "scattergl": [
                      {
                        "marker": {
                          "colorbar": {
                            "outlinewidth": 0,
                            "ticks": ""
                          }
                        },
                        "type": "scattergl"
                      }
                    ],
                    "scattermapbox": [
                      {
                        "marker": {
                          "colorbar": {
                            "outlinewidth": 0,
                            "ticks": ""
                          }
                        },
                        "type": "scattermapbox"
                      }
                    ],
                    "scatterpolar": [
                      {
                        "marker": {
                          "colorbar": {
                            "outlinewidth": 0,
                            "ticks": ""
                          }
                        },
                        "type": "scatterpolar"
                      }
                    ],
                    "scatterpolargl": [
                      {
                        "marker": {
                          "colorbar": {
                            "outlinewidth": 0,
                            "ticks": ""
                          }
                        },
                        "type": "scatterpolargl"
                      }
                    ],
                    "scatterternary": [
                      {
                        "marker": {
                          "colorbar": {
                            "outlinewidth": 0,
                            "ticks": ""
                          }
                        },
                        "type": "scatterternary"
                      }
                    ],
                    "surface": [
                      {
                        "colorbar": {
                          "outlinewidth": 0,
                          "ticks": ""
                        },
                        "colorscale": [
                          [
                            0,
                            "#0d0887"
                          ],
                          [
                            0.1111111111111111,
                            "#46039f"
                          ],
                          [
                            0.2222222222222222,
                            "#7201a8"
                          ],
                          [
                            0.3333333333333333,
                            "#9c179e"
                          ],
                          [
                            0.4444444444444444,
                            "#bd3786"
                          ],
                          [
                            0.5555555555555556,
                            "#d8576b"
                          ],
                          [
                            0.6666666666666666,
                            "#ed7953"
                          ],
                          [
                            0.7777777777777778,
                            "#fb9f3a"
                          ],
                          [
                            0.8888888888888888,
                            "#fdca26"
                          ],
                          [
                            1,
                            "#f0f921"
                          ]
                        ],
                        "type": "surface"
                      }
                    ],
                    "table": [
                      {
                        "cells": {
                          "fill": {
                            "color": "#EBF0F8"
                          },
                          "line": {
                            "color": "white"
                          }
                        },
                        "header": {
                          "fill": {
                            "color": "#C8D4E3"
                          },
                          "line": {
                            "color": "white"
                          }
                        },
                        "type": "table"
                      }
                    ]
                  },
                  "layout": {
                    "annotationdefaults": {
                      "arrowcolor": "#2a3f5f",
                      "arrowhead": 0,
                      "arrowwidth": 1
                    },
                    "autotypenumbers": "strict",
                    "coloraxis": {
                      "colorbar": {
                        "outlinewidth": 0,
                        "ticks": ""
                      }
                    },
                    "colorscale": {
                      "diverging": [
                        [
                          0,
                          "#8e0152"
                        ],
                        [
                          0.1,
                          "#c51b7d"
                        ],
                        [
                          0.2,
                          "#de77ae"
                        ],
                        [
                          0.3,
                          "#f1b6da"
                        ],
                        [
                          0.4,
                          "#fde0ef"
                        ],
                        [
                          0.5,
                          "#f7f7f7"
                        ],
                        [
                          0.6,
                          "#e6f5d0"
                        ],
                        [
                          0.7,
                          "#b8e186"
                        ],
                        [
                          0.8,
                          "#7fbc41"
                        ],
                        [
                          0.9,
                          "#4d9221"
                        ],
                        [
                          1,
                          "#276419"
                        ]
                      ],
                      "sequential": [
                        [
                          0,
                          "#0d0887"
                        ],
                        [
                          0.1111111111111111,
                          "#46039f"
                        ],
                        [
                          0.2222222222222222,
                          "#7201a8"
                        ],
                        [
                          0.3333333333333333,
                          "#9c179e"
                        ],
                        [
                          0.4444444444444444,
                          "#bd3786"
                        ],
                        [
                          0.5555555555555556,
                          "#d8576b"
                        ],
                        [
                          0.6666666666666666,
                          "#ed7953"
                        ],
                        [
                          0.7777777777777778,
                          "#fb9f3a"
                        ],
                        [
                          0.8888888888888888,
                          "#fdca26"
                        ],
                        [
                          1,
                          "#f0f921"
                        ]
                      ],
                      "sequentialminus": [
                        [
                          0,
                          "#0d0887"
                        ],
                        [
                          0.1111111111111111,
                          "#46039f"
                        ],
                        [
                          0.2222222222222222,
                          "#7201a8"
                        ],
                        [
                          0.3333333333333333,
                          "#9c179e"
                        ],
                        [
                          0.4444444444444444,
                          "#bd3786"
                        ],
                        [
                          0.5555555555555556,
                          "#d8576b"
                        ],
                        [
                          0.6666666666666666,
                          "#ed7953"
                        ],
                        [
                          0.7777777777777778,
                          "#fb9f3a"
                        ],
                        [
                          0.8888888888888888,
                          "#fdca26"
                        ],
                        [
                          1,
                          "#f0f921"
                        ]
                      ]
                    },
                    "colorway": [
                      "#636efa",
                      "#EF553B",
                      "#00cc96",
                      "#ab63fa",
                      "#FFA15A",
                      "#19d3f3",
                      "#FF6692",
                      "#B6E880",
                      "#FF97FF",
                      "#FECB52"
                    ],
                    "font": {
                      "color": "#2a3f5f"
                    },
                    "geo": {
                      "bgcolor": "white",
                      "lakecolor": "white",
                      "landcolor": "#E5ECF6",
                      "showlakes": true,
                      "showland": true,
                      "subunitcolor": "white"
                    },
                    "hoverlabel": {
                      "align": "left"
                    },
                    "hovermode": "closest",
                    "mapbox": {
                      "style": "light"
                    },
                    "paper_bgcolor": "white",
                    "plot_bgcolor": "#E5ECF6",
                    "polar": {
                      "angularaxis": {
                        "gridcolor": "white",
                        "linecolor": "white",
                        "ticks": ""
                      },
                      "bgcolor": "#E5ECF6",
                      "radialaxis": {
                        "gridcolor": "white",
                        "linecolor": "white",
                        "ticks": ""
                      }
                    },
                    "scene": {
                      "xaxis": {
                        "backgroundcolor": "#E5ECF6",
                        "gridcolor": "white",
                        "gridwidth": 2,
                        "linecolor": "white",
                        "showbackground": true,
                        "ticks": "",
                        "zerolinecolor": "white"
                      },
                      "yaxis": {
                        "backgroundcolor": "#E5ECF6",
                        "gridcolor": "white",
                        "gridwidth": 2,
                        "linecolor": "white",
                        "showbackground": true,
                        "ticks": "",
                        "zerolinecolor": "white"
                      },
                      "zaxis": {
                        "backgroundcolor": "#E5ECF6",
                        "gridcolor": "white",
                        "gridwidth": 2,
                        "linecolor": "white",
                        "showbackground": true,
                        "ticks": "",
                        "zerolinecolor": "white"
                      }
                    },
                    "shapedefaults": {
                      "line": {
                        "color": "#2a3f5f"
                      }
                    },
                    "ternary": {
                      "aaxis": {
                        "gridcolor": "white",
                        "linecolor": "white",
                        "ticks": ""
                      },
                      "baxis": {
                        "gridcolor": "white",
                        "linecolor": "white",
                        "ticks": ""
                      },
                      "bgcolor": "#E5ECF6",
                      "caxis": {
                        "gridcolor": "white",
                        "linecolor": "white",
                        "ticks": ""
                      }
                    },
                    "title": {
                      "x": 0.05
                    },
                    "xaxis": {
                      "automargin": true,
                      "gridcolor": "white",
                      "linecolor": "white",
                      "ticks": "",
                      "title": {
                        "standoff": 15
                      },
                      "zerolinecolor": "white",
                      "zerolinewidth": 2
                    },
                    "yaxis": {
                      "automargin": true,
                      "gridcolor": "white",
                      "linecolor": "white",
                      "ticks": "",
                      "title": {
                        "standoff": 15
                      },
                      "zerolinecolor": "white",
                      "zerolinewidth": 2
                    }
                  }
                },
                "title": {
                  "text": "Distribuição de Jogadores da NBA pelo Mundo"
                },
                "width": 1000
              }
            }
          },
          "metadata": {},
          "output_type": "display_data"
        }
      ],
      "source": [
        "# Agrupa os jogadores por país e conta a quantidade\n",
        "jogadores_por_pais = df_tratado['country'].value_counts().reset_index()\n",
        "jogadores_por_pais.columns = ['country', 'count']\n",
        "\n",
        "# Cria o mapa geográfico com bolhas\n",
        "fig = go.Figure(data=go.Scattergeo(\n",
        "    locationmode = 'country names', # Define o modo de localização como nomes de países\n",
        "    locations = jogadores_por_pais['country'],\n",
        "    text = jogadores_por_pais['country'],\n",
        "    mode = 'markers',\n",
        "    marker = dict(\n",
        "        size = jogadores_por_pais['count'] * 5,  # Aumenta o tamanho das bolhas\n",
        "        sizeref=2.*max(jogadores_por_pais['count'])/(40.**2),\n",
        "        sizemode='area',\n",
        "        color = jogadores_por_pais['count'],\n",
        "        colorscale = 'Viridis',\n",
        "        cmin = 0,\n",
        "        cmax = jogadores_por_pais['count'].max(),\n",
        "        colorbar_title=\"Número de Jogadores\",\n",
        "        line_color='rgb(40,40,40)',\n",
        "        line_width=0.5,\n",
        "        sizemin = 4\n",
        "    )))\n",
        "\n",
        "fig.update_layout(\n",
        "    title_text = 'Distribuição de Jogadores da NBA pelo Mundo',\n",
        "    geo = dict(\n",
        "        showland = True,\n",
        "        landcolor = 'rgb(217, 217, 217)',\n",
        "        subunitcolor = 'rgb(255, 255, 255)',\n",
        "        countrycolor = 'rgb(255, 255, 255)',\n",
        "        countrywidth = 0.5,\n",
        "        subunitwidth = 0.5,\n",
        "        showframe = False, # Remove a moldura do mapa\n",
        "        projection_type = 'natural earth' # Define a projeção do mapa\n",
        "    ),\n",
        "    height=600, # Define a altura da janela do mapa (em pixels)\n",
        "    width=1000  # Define a largura da janela do mapa (em pixels)\n",
        ")\n",
        "\n",
        "fig.show()"
      ]
    },
    {
      "cell_type": "markdown",
      "metadata": {
        "id": "8EhdDSA7ovL2"
      },
      "source": [
        "**Pergunta de Negócio 1: Como está a performance do Sacramento Kings em relação aos outros times da NBA em termos de rating dos jogadores?**\n",
        "\n",
        "**KPIs:**\n",
        "\n",
        " - Rating Médio do Sacramento Kings:\n",
        "\n",
        " - Posição do Sacramento Kings no Ranking de Rating Médio:"
      ]
    },
    {
      "cell_type": "code",
      "execution_count": null,
      "metadata": {
        "id": "fCHn0IXRovL3",
        "outputId": "8b62e5c2-9cf1-458c-87bc-c3c7bbde02de"
      },
      "outputs": [
        {
          "data": {
            "text/plain": [
              "team\n",
              "Los Angeles Clippers      79.285714\n",
              "Golden State Warriors     79.111111\n",
              "Brooklyn Nets             78.714286\n",
              "Utah Jazz                 78.333333\n",
              "Los Angeles Lakers        77.800000\n",
              "Denver Nuggets            77.769231\n",
              "Houston Rockets           77.692308\n",
              "Portland Trail Blazers    77.500000\n",
              "Sacramento Kings          77.428571\n",
              "Philadelphia 76ers        77.285714\n",
              "Boston Celtics            77.000000\n",
              "Dallas Mavericks          76.866667\n",
              "San Antonio Spurs         76.857143\n",
              "Cleveland Cavaliers       76.583333\n",
              "Milwaukee Bucks           76.411765\n",
              "New Orleans Pelicans      76.400000\n",
              "Toronto Raptors           76.384615\n",
              "Indiana Pacers            76.266667\n",
              "Atlanta Hawks             76.166667\n",
              "Miami Heat                75.750000\n",
              "Name: rating, dtype: float64"
            ]
          },
          "execution_count": 56,
          "metadata": {},
          "output_type": "execute_result"
        }
      ],
      "source": [
        "# Calcula a média de rating para cada time e ordena em ordem decrescente\n",
        "ranking_rating = df_tratado.groupby('team')['rating'].mean().sort_values(ascending=False)\n",
        "\n",
        "ranking_rating.head(20)\n",
        "\n"
      ]
    },
    {
      "cell_type": "code",
      "execution_count": null,
      "metadata": {
        "id": "j8BhM7dwovL3",
        "outputId": "6a2027fa-5fdd-4337-fca6-ab739a0d83d2"
      },
      "outputs": [
        {
          "name": "stdout",
          "output_type": "stream",
          "text": [
            "Posição do Sacramento Kings no ranking de rating médio: 9\n"
          ]
        }
      ],
      "source": [
        "# Encontra a posição do Sacramento Kings no ranking\n",
        "posicao_kings = ranking_rating.index.get_loc('Sacramento Kings') + 1\n",
        "print(f\"Posição do Sacramento Kings no ranking de rating médio: {posicao_kings}\")"
      ]
    },
    {
      "cell_type": "markdown",
      "metadata": {
        "id": "xnt4DXMkovL3"
      },
      "source": [
        "**Pergunta de Negócio 2: Qual a relação entre a experiência dos jogadores e seus salários?**\n",
        "\n",
        "**KPIs:**\n",
        "\n",
        " - Coeficiente de Correlação entre Experiência e Salário:\n",
        "\n",
        " - Calcula o coeficiente de correlação entre as colunas \"experiencia\" e \"salary\". Um valor positivo indica uma correlação positiva (jogadores mais experientes tendem a ter salários mais altos), enquanto um valor negativo indica uma correlação negativa.\n",
        "\n"
      ]
    },
    {
      "cell_type": "code",
      "execution_count": null,
      "metadata": {
        "id": "I6yFXuj0ovL3",
        "outputId": "908013a2-26a1-4f7c-e707-5ad924d51e10"
      },
      "outputs": [
        {
          "name": "stdout",
          "output_type": "stream",
          "text": [
            " correlação entre Experiência e Salário é: 0.534386739487598\n"
          ]
        }
      ],
      "source": [
        "# Coefiiente de correlação entre Experiência e Salario\n",
        "corr1 = df_tratado['experiencia'].corr(df_tratado['salary'])\n",
        "print(f\" correlação entre Experiência e Salário é: {corr1}\")\n"
      ]
    },
    {
      "cell_type": "code",
      "execution_count": null,
      "metadata": {
        "id": "MtjVBPoiovL3",
        "outputId": "2c38ffea-69ee-4e2e-8d61-89c6ce48f20b"
      },
      "outputs": [
        {
          "data": {
            "image/png": "[encoded data removed]",
            "text/plain": [
              "<Figure size 1400x800 with 2 Axes>"
            ]
          },
          "metadata": {},
          "output_type": "display_data"
        }
      ],
      "source": [
        "# Encontrando a correlação entre as variáveis numéricas do dataset tratado\n",
        "\n",
        "# Selecionando apenas as colunas numéricas do DataFrame\n",
        "df_numerico = df_tratado.select_dtypes(include=['int64', 'float64'])\n",
        "\n",
        "# Calculando a matriz de correlação\n",
        "correlacao = df_numerico.corr()\n",
        "\n",
        "# Criar o mapa de calor\n",
        "plt.figure(figsize=(14, 8))\n",
        "sns.heatmap(correlacao, annot=True, cmap='coolwarm', fmt=\".2f\", linewidths=.5)\n",
        "plt.title('Matriz de Correlação entre Variáveis Numéricas')\n",
        "plt.show()"
      ]
    },
    {
      "cell_type": "markdown",
      "metadata": {
        "id": "h89D2bCZovL3"
      },
      "source": [
        "**Alguns insights sobre as análises**\n",
        "\n",
        "O rating médio dos jogadores do Sacramento Kings é 76.81, o que coloca o time na 9ª posição no ranking de rating médio da NBA. Essa posição indica que o time está na metade inferior do ranking em termos de qualidade geral dos jogadores.\n",
        "\n",
        "O Sacramento Kings precisa investir em jogadores com ratings mais altos para se tornar mais competitivo. Isso pode ser feito por meio do draft, buscando jovens talentos com alto potencial, ou por meio de trocas e contratações de jogadores experientes e de alto nível. Investir em um bom programa de desenvolvimento de jogadores também pode ajudar a elevar o rating dos jogadores do time a longo prazo.\n",
        "\n",
        "\n",
        "O coeficiente de correlação de 0.53 indica uma correlação positiva moderada entre a experiência e o salário dos jogadores da NBA. Isso sugere que, em geral, jogadores mais experientes tendem a receber salários mais altos. Essa relação faz sentido, pois a experiência geralmente está associada a um maior desenvolvimento de habilidades e, portanto, maior valor para o time.\n",
        "\n",
        "Ao construir o time, o Sacramento Kings deve considerar a experiência como um fator importante na negociação de salários. Jogadores mais experientes podem trazer mais estabilidade e conhecimento tático ao time, mas também podem exigir salários mais altos. É crucial encontrar um equilíbrio entre experiência e custo-benefício."
      ]
    }
  ],
  "metadata": {
    "kernelspec": {
      "display_name": "base",
      "language": "python",
      "name": "python3"
    },
    "language_info": {
      "codemirror_mode": {
        "name": "ipython",
        "version": 3
      },
      "file_extension": ".py",
      "mimetype": "text/x-python",
      "name": "python",
      "nbconvert_exporter": "python",
      "pygments_lexer": "ipython3",
      "version": "3.12.4"
    },
    "colab": {
      "provenance": [],
      "include_colab_link": true
    }
  },
  "nbformat": 4,
  "nbformat_minor": 0
}